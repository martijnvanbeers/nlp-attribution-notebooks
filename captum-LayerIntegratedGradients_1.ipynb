{
 "cells": [
  {
   "cell_type": "code",
   "execution_count": 1,
   "metadata": {},
   "outputs": [],
   "source": [
    "import itertools\n",
    "import numpy as np\n",
    "import pandas as pd\n",
    "import plotnine\n",
    "from plotnine import *\n",
    "import torch\n",
    "from transformers import AutoModelForMaskedLM, AutoTokenizer\n",
    "\n",
    "from captum.attr import visualization as viz\n",
    "from captum.attr import LayerIntegratedGradients\n",
    "from captum.attr import configure_interpretable_embedding_layer, remove_interpretable_embedding_layer\n",
    "\n",
    "plotnine.options.figure_size = (12, 12)\n",
    "import warnings\n",
    "warnings.filterwarnings(\"ignore\")"
   ]
  },
  {
   "cell_type": "code",
   "execution_count": 2,
   "metadata": {},
   "outputs": [],
   "source": [
    "transformer = \"distilbert-base-cased\"\n",
    "#transformer = \"roberta-base\"\n",
    "#transformer = \"twmkn9/bert-base-uncased-squad2\"\n",
    "tokenizer = AutoTokenizer.from_pretrained(transformer)\n",
    "model = AutoModelForMaskedLM.from_pretrained(transformer)\n",
    "model.eval()\n",
    "model.zero_grad()"
   ]
  },
  {
   "cell_type": "code",
   "execution_count": 3,
   "metadata": {},
   "outputs": [],
   "source": [
    "def prepare_data_for_sentence(sent, N):\n",
    "    input_seq = tokenizer.encode(sent)\n",
    "\n",
    "    mask_index = input_seq.index(tokenizer.mask_token_id)\n",
    "#    print(mask_index)\n",
    "\n",
    "    input_tensor = torch.tensor([input_seq])\n",
    "\n",
    "    input_result = model.forward(input_tensor, return_dict=True)\n",
    "\n",
    "    input_result.logits.shape\n",
    "\n",
    "    token_logits = input_result.logits\n",
    "    mask_token_logits = token_logits[0, mask_index, :]\n",
    "    mask_token_probs = torch.nn.functional.softmax(mask_token_logits, dim=0)\n",
    "\n",
    "    # get the top predictions for the non-occluded sentence\n",
    "    top_N = torch.topk(mask_token_probs, N, dim=0)\n",
    "#    print(top_N)\n",
    "    probs = top_N.values.tolist()\n",
    "    top_N_tokens = top_N.indices.tolist()\n",
    "#    print(probs, sum(probs), top_N_tokens)\n",
    "    return input_seq, top_N_tokens, mask_index"
   ]
  },
  {
   "cell_type": "code",
   "execution_count": 11,
   "metadata": {
    "code_folding": []
   },
   "outputs": [],
   "source": [
    "def custom_forward(inputs, attention_mask=None, pos=0):\n",
    "#    result = model.forward(inputs.double(), return_dict=True, attention_mask=attention_mask)\n",
    "#    print(\"POS\", pos)\n",
    "    result = model.forward(inputs, return_dict=True, attention_mask=attention_mask)\n",
    "    preds = result.logits\n",
    "#    print(\"PREDS SHAPE:\", preds.shape)\n",
    "    N_token = preds[:, pos, :]\n",
    "#()    print(\"SHAPE\", N_token.shape)\n",
    "    return N_token\n",
    "\n",
    "def summarize_attributions(attributions):\n",
    "    attributions = attributions.sum(dim=-1).squeeze(0)\n",
    "    attributions = attributions / torch.norm(attributions)\n",
    "    return attributions\n",
    "\n",
    "def construct_whole_bert_embeddings(input_ids, ref_input_ids):\n",
    "    \n",
    "    input_embeddings = interpretable_embedding.indices_to_embeddings(input_ids)\n",
    "    #, token_type_ids=token_type_ids, position_ids=position_ids)\n",
    "    ref_input_embeddings = interpretable_embedding.indices_to_embeddings(ref_input_ids)\n",
    "    #, token_type_ids=token_type_ids, position_ids=position_ids)\n",
    "\n",
    "    return input_embeddings, ref_input_embeddings\n",
    "\n",
    "\n",
    "def run_attribution_model(input_seq, ref_token_id, top_N_tokens, mask_index, layer):\n",
    "    interpretable_embedding = configure_interpretable_embedding_layer(model, 'distilbert.embeddings')\n",
    "    try:\n",
    "        ablator = LayerIntegratedGradients(custom_forward, layer)\n",
    "\n",
    "        input_tensor = torch.tensor([input_seq] * len(top_N_tokens))\n",
    "        ref_tensor = torch.tensor([ref_token_id]).expand((1,len(input_seq)))\n",
    "        interpretable_input_tensor = interpretable_embedding.indices_to_embeddings(input_tensor)\n",
    "        ref_tensor = interpretable_embedding.indices_to_embeddings(ref_tensor)\n",
    "\n",
    "        attention_mask = torch.ones_like(input_tensor)\n",
    "        attributions = ablator.attribute(\n",
    "                inputs=interpretable_input_tensor,\n",
    "                baselines=ref_tensor,\n",
    "                additional_forward_args=(attention_mask,mask_index),\n",
    "                target=top_N_tokens,\n",
    "        )\n",
    "        attributions = summarize_attributions(attributions)\n",
    "    finally:\n",
    "        remove_interpretable_embedding_layer(model, interpretable_embedding)\n",
    "\n",
    "    return attributions.T"
   ]
  },
  {
   "cell_type": "code",
   "execution_count": 43,
   "metadata": {
    "code_folding": []
   },
   "outputs": [],
   "source": [
    "def build_dataframe(attributions, input_seq, top_N_tokens):\n",
    "\n",
    "    ix = pd.CategoricalIndex(\n",
    "                [tokenizer.decode([token]) for token in input_seq],\n",
    "                categories=reversed([tokenizer.decode([token]) for token in input_seq]),\n",
    "                ordered=True\n",
    "            )\n",
    "#    print(ix)\n",
    "    attr_df = (\n",
    "        pd.DataFrame(\n",
    "                attributions.detach().numpy(), \n",
    "                columns=[tokenizer.decode([token]) for token in top_N_tokens],\n",
    "                index=ix,\n",
    "            )\n",
    "        .reset_index()\n",
    "    )\n",
    "    attr_df = attr_df.melt(id_vars=[\"index\"])\n",
    "    #attr_df = attr_df[~(attr_df['index'] == tokenizer.mask_token)]\n",
    "    attr_df['variable'] = pd.Categorical(\n",
    "            attr_df['variable'], \n",
    "            categories = [tokenizer.decode([token]) for token in top_N_tokens], \n",
    "            ordered=True\n",
    "        )\n",
    "    attr_df['display_value'] = attr_df['value'].apply(lambda f: f\"{f:.2f}\")\n",
    "    return attr_df\n",
    "    "
   ]
  },
  {
   "cell_type": "code",
   "execution_count": 6,
   "metadata": {
    "code_folding": []
   },
   "outputs": [],
   "source": [
    "def create_plot(attr_df, mask_index, N):\n",
    "    ncol = np.ceil(np.sqrt(N))\n",
    "    return (ggplot(attr_df, aes(x=\"index\", y=\"value\")) + \n",
    "        geom_col(aes(fill=\"index\", colour=\"index\"))  +\n",
    "        geom_text(aes(y=\"value/2\", label=\"display_value\"), size=10) +\n",
    "#        geom_label(aes(x = len(input_seq) - mask_index, y= 0, label=\"variable\"), size=13, boxstyle=\"darrow\") +\n",
    "        scale_x_discrete(drop=False) +\n",
    "        facet_wrap(\"~variable\", ncol=ncol) +\n",
    "        coord_flip() +\n",
    "        labs(\n",
    "                x=\"target token\",\n",
    "                y=\"Captum contribution scores\",\n",
    "#                title=\"Exploring the contribution of each token to the prediction.\"\n",
    "            ) +\n",
    "        theme(legend_position=\"none\")\n",
    "    )"
   ]
  },
  {
   "cell_type": "code",
   "execution_count": 39,
   "metadata": {},
   "outputs": [
    {
     "data": {
      "text/plain": [
       "0          [CLS]\n",
       "1            The\n",
       "2            cat\n",
       "3             of\n",
       "4            the\n",
       "5     neighbours\n",
       "6             is\n",
       "7        chasing\n",
       "8              a\n",
       "9         [MASK]\n",
       "10             .\n",
       "11         [SEP]\n",
       "Name: index, dtype: category\n",
       "Categories (12, object): ['[SEP]' < '.' < '[MASK]' < 'a' ... 'of' < 'cat' < 'The' < '[CLS]']"
      ]
     },
     "execution_count": 39,
     "metadata": {},
     "output_type": "execute_result"
    }
   ],
   "source": [
    "df['index']"
   ]
  },
  {
   "cell_type": "code",
   "execution_count": 48,
   "metadata": {},
   "outputs": [
    {
     "data": {
      "image/png": "[encoded data removed]",
      "text/plain": [
       "<Figure size 432x288 with 1 Axes>"
      ]
     },
     "metadata": {
      "needs_background": "light"
     },
     "output_type": "display_data"
    }
   ],
   "source": [
    "import seaborn as sns\n",
    "ax = sns.barplot(x=\"value\", y=\"index\", data=df, order=df['index'])"
   ]
  },
  {
   "cell_type": "code",
   "execution_count": 46,
   "metadata": {},
   "outputs": [],
   "source": [
    "sns.barplot?"
   ]
  },
  {
   "cell_type": "code",
   "execution_count": 12,
   "metadata": {},
   "outputs": [],
   "source": [
    "def run_and_show(sentence, mask_tokens, reference=[tokenizer.unk_token_id], layer=None):\n",
    "    if isinstance(mask_tokens, int):\n",
    "        N = mask_tokens\n",
    "        input_seq, mask_tokens, mask_index = prepare_data_for_sentence(sentence, N)\n",
    "    else:\n",
    "        N = len(mask_tokens)\n",
    "        if isinstance(mask_tokens[0], str):\n",
    "            mask_tokens = tokenizer.convert_tokens_to_ids(mask_tokens)\n",
    "        input_seq, _, mask_index = prepare_data_for_sentence(sentence, N)\n",
    "\n",
    "    attributions = []\n",
    "    for ref in reference:\n",
    "        attributions.append(run_attribution_model(input_seq, ref, mask_tokens, mask_index, layer))\n",
    "    attributions = torch.stack(attributions).mean(axis=0)\n",
    "    df = build_dataframe(attributions, input_seq, mask_tokens)\n",
    "    plot = create_plot(df, mask_index, N)\n",
    "    display(plot)\n",
    "    return df, mask_index"
   ]
  },
  {
   "cell_type": "code",
   "execution_count": 49,
   "metadata": {},
   "outputs": [],
   "source": [
    "def run_no_show(sentence, mask_tokens, reference=[tokenizer.unk_token_id], layer=None):\n",
    "    if isinstance(mask_tokens, int):\n",
    "        N = mask_tokens\n",
    "        input_seq, mask_tokens, mask_index = prepare_data_for_sentence(sentence, N)\n",
    "    else:\n",
    "        N = len(mask_tokens)\n",
    "        if isinstance(mask_tokens[0], str):\n",
    "            mask_tokens = tokenizer.convert_tokens_to_ids(mask_tokens)\n",
    "        input_seq, _, mask_index = prepare_data_for_sentence(sentence, N)\n",
    "\n",
    "    attributions = []\n",
    "    for ref in reference:\n",
    "        attributions.append(run_attribution_model(input_seq, ref, mask_tokens, mask_index, layer))\n",
    "    attributions = torch.stack(attributions).mean(axis=0)\n",
    "    df = build_dataframe(attributions, input_seq, mask_tokens)\n",
    "    return df, mask_index"
   ]
  },
  {
   "cell_type": "code",
   "execution_count": 8,
   "metadata": {},
   "outputs": [
    {
     "name": "stdout",
     "output_type": "stream",
     "text": [
      "[16179  2161 11539 28167  6178 16557 17521 14984 15062  9672  2190 19319\n",
      " 27078 13627 18551 21328 23656  4311 19743  4570]\n"
     ]
    }
   ],
   "source": [
    "from numpy.random import default_rng\n",
    "rng = default_rng()\n",
    "sample = rng.integers(model.config.vocab_size, size=20)\n",
    "print(sample)"
   ]
  },
  {
   "cell_type": "code",
   "execution_count": 9,
   "metadata": {},
   "outputs": [
    {
     "data": {
      "text/plain": [
       "['##rals',\n",
       " 'Lake',\n",
       " 'poison',\n",
       " '##®',\n",
       " 'missions',\n",
       " 'anterior',\n",
       " '1784',\n",
       " 'Territorial',\n",
       " 'crouched',\n",
       " '##ben',\n",
       " 'list',\n",
       " 'Levine',\n",
       " '##nosis',\n",
       " 'Giles',\n",
       " '##zard',\n",
       " '##ieri',\n",
       " 'culturally',\n",
       " 'representing',\n",
       " 'prospects',\n",
       " 'employees']"
      ]
     },
     "execution_count": 9,
     "metadata": {},
     "output_type": "execute_result"
    }
   ],
   "source": [
    "[tokenizer.decode([token]) for token in sample]"
   ]
  },
  {
   "cell_type": "code",
   "execution_count": 51,
   "metadata": {},
   "outputs": [],
   "source": [
    "import matplotlib"
   ]
  },
  {
   "cell_type": "code",
   "execution_count": 64,
   "metadata": {},
   "outputs": [
    {
     "data": {
      "image/png": "[encoded data removed]",
      "text/plain": [
       "<Figure size 1152x864 with 6 Axes>"
      ]
     },
     "metadata": {
      "needs_background": "light"
     },
     "output_type": "display_data"
    }
   ],
   "source": [
    "fig, axes = matplotlib.pyplot.subplots(2, 3, figsize=(16, 12), sharex=True)\n",
    "fig.suptitle('Contribution scores per attention layer')\n",
    "axes = axes.flatten()\n",
    "for i in range(6):\n",
    "    layer = getattr(model.distilbert.transformer.layer, f\"{i}\")\n",
    "    df, _ = run_no_show(f\"The cat from the neighbours chases a {tokenizer.mask_token}.\", [\"mouse\"], reference=[tokenizer.unk_token_id], layer=layer)\n",
    "    sns.barplot(ax=axes[i], data=df, x=\"value\", y=\"index\", order=df['index'])\n",
    "    axes[i].set_title(f\"layer {i+1}\")\n",
    "\n",
    "matplotlib.pyplot.show()"
   ]
  },
  {
   "cell_type": "code",
   "execution_count": 65,
   "metadata": {},
   "outputs": [
    {
     "data": {
      "image/png": "[encoded data removed]",
      "text/plain": [
       "<Figure size 1152x864 with 6 Axes>"
      ]
     },
     "metadata": {
      "needs_background": "light"
     },
     "output_type": "display_data"
    }
   ],
   "source": [
    "fig, axes = matplotlib.pyplot.subplots(2, 3, figsize=(16, 12), sharex=True)\n",
    "fig.suptitle('Contribution scores per attention layer')\n",
    "axes = axes.flatten()\n",
    "for i in range(6):\n",
    "    layer = getattr(model.distilbert.transformer.layer, f\"{i}\")\n",
    "    df, _ = run_no_show(f\"The cat from the neighbours chases a {tokenizer.mask_token}.\", [\"mouse\"], reference=sample, layer=layer)\n",
    "    sns.barplot(ax=axes[i], data=df, x=\"value\", y=\"index\", order=df['index'])\n",
    "    axes[i].set_title(f\"layer {i+1}\")\n",
    "\n",
    "matplotlib.pyplot.show()"
   ]
  },
  {
   "cell_type": "code",
   "execution_count": 68,
   "metadata": {
    "scrolled": true
   },
   "outputs": [],
   "source": [
    "df['rel_value'] = (df['value'].abs() / df['value'].abs().max()).round(2)\n",
    "mask_index = 9"
   ]
  },
  {
   "cell_type": "code",
   "execution_count": 69,
   "metadata": {},
   "outputs": [
    {
     "data": {
      "text/html": [
       "<div style='font-size: 1.5em; padding: 1em; background-color: #CCC'><div style='margin: 0.5em; padding: 0.5em; background-color: white; border: 3px solid #CCC; border-radius: 0.3em'><span style='padding: 0.1em; background-color: rgba(255,0,0,0.0);'>[CLS]</span><span style='padding: 0.1em; background-color: rgba(255,0,0,0.0);'>The</span><span style='padding: 0.1em; background-color: rgba(255,0,0,0.0);'>cat</span><span style='padding: 0.1em; background-color: rgba(255,0,0,0.0);'>from</span><span style='padding: 0.1em; background-color: rgba(255,0,0,0.0);'>the</span><span style='padding: 0.1em; background-color: rgba(255,0,0,0.0);'>neighbours</span><span style='padding: 0.1em; background-color: rgba(255,0,0,0.0);'>chase</span><span style='padding: 0.1em; background-color: rgba(255,0,0,0.0);'>##s</span><span style='padding: 0.1em; background-color: rgba(255,0,0,0.0);'>a</span><span style='padding: 0.1em; text-decoration:underline;  background-color: rgba(0,255,0,1.0);'>mouse</span><span style='padding: 0.1em; background-color: rgba(255,0,0,0.0);'>.</span><span style='padding: 0.1em; background-color: rgba(255,0,0,0.0);'>[SEP]</span></div></div>"
      ],
      "text/plain": [
       "<IPython.core.display.HTML object>"
      ]
     },
     "metadata": {},
     "output_type": "display_data"
    }
   ],
   "source": [
    "from IPython.display import HTML\n",
    "import re\n",
    "\n",
    "output = \"<div style='font-size: 1.5em; padding: 1em; background-color: #CCC'>\"\n",
    "for v, g in df.groupby('variable'):\n",
    "    output += \"<div style='margin: 0.5em; padding: 0.5em; background-color: white; border: 3px solid #CCC; border-radius: 0.3em'>\"\n",
    "    for i, row in g.iterrows():\n",
    "        if i % len(g) == mask_index:\n",
    "            output += f\"<span style='padding: 0.1em; text-decoration:underline;  background-color: rgba({'0,255,0' if row['value'] > 0 else '255,0,0'},{row['rel_value']});'>{row['variable']}</span>\"\n",
    "        else:\n",
    "            word = row['index'].strip()\n",
    "            word = re.sub(r'<', '&lt;', re.sub(r'>', '&gt;', word))\n",
    "            output += f\"<span style='padding: 0.1em; background-color: rgba({'0,255,0' if row['value'] > 0 else '255,0,0'},{row['rel_value']});'>{word}</span>\"\n",
    "    output += \"</div>\"\n",
    "output += \"</div>\"\n",
    "display(HTML(output))"
   ]
  },
  {
   "cell_type": "code",
   "execution_count": 70,
   "metadata": {},
   "outputs": [
    {
     "data": {
      "text/plain": [
       "DistilBertForMaskedLM(\n",
       "  (distilbert): DistilBertModel(\n",
       "    (embeddings): Embeddings(\n",
       "      (word_embeddings): Embedding(28996, 768, padding_idx=0)\n",
       "      (position_embeddings): Embedding(512, 768)\n",
       "      (LayerNorm): LayerNorm((768,), eps=1e-12, elementwise_affine=True)\n",
       "      (dropout): Dropout(p=0.1, inplace=False)\n",
       "    )\n",
       "    (transformer): Transformer(\n",
       "      (layer): ModuleList(\n",
       "        (0): TransformerBlock(\n",
       "          (attention): MultiHeadSelfAttention(\n",
       "            (dropout): Dropout(p=0.1, inplace=False)\n",
       "            (q_lin): Linear(in_features=768, out_features=768, bias=True)\n",
       "            (k_lin): Linear(in_features=768, out_features=768, bias=True)\n",
       "            (v_lin): Linear(in_features=768, out_features=768, bias=True)\n",
       "            (out_lin): Linear(in_features=768, out_features=768, bias=True)\n",
       "          )\n",
       "          (sa_layer_norm): LayerNorm((768,), eps=1e-12, elementwise_affine=True)\n",
       "          (ffn): FFN(\n",
       "            (dropout): Dropout(p=0.1, inplace=False)\n",
       "            (lin1): Linear(in_features=768, out_features=3072, bias=True)\n",
       "            (lin2): Linear(in_features=3072, out_features=768, bias=True)\n",
       "          )\n",
       "          (output_layer_norm): LayerNorm((768,), eps=1e-12, elementwise_affine=True)\n",
       "        )\n",
       "        (1): TransformerBlock(\n",
       "          (attention): MultiHeadSelfAttention(\n",
       "            (dropout): Dropout(p=0.1, inplace=False)\n",
       "            (q_lin): Linear(in_features=768, out_features=768, bias=True)\n",
       "            (k_lin): Linear(in_features=768, out_features=768, bias=True)\n",
       "            (v_lin): Linear(in_features=768, out_features=768, bias=True)\n",
       "            (out_lin): Linear(in_features=768, out_features=768, bias=True)\n",
       "          )\n",
       "          (sa_layer_norm): LayerNorm((768,), eps=1e-12, elementwise_affine=True)\n",
       "          (ffn): FFN(\n",
       "            (dropout): Dropout(p=0.1, inplace=False)\n",
       "            (lin1): Linear(in_features=768, out_features=3072, bias=True)\n",
       "            (lin2): Linear(in_features=3072, out_features=768, bias=True)\n",
       "          )\n",
       "          (output_layer_norm): LayerNorm((768,), eps=1e-12, elementwise_affine=True)\n",
       "        )\n",
       "        (2): TransformerBlock(\n",
       "          (attention): MultiHeadSelfAttention(\n",
       "            (dropout): Dropout(p=0.1, inplace=False)\n",
       "            (q_lin): Linear(in_features=768, out_features=768, bias=True)\n",
       "            (k_lin): Linear(in_features=768, out_features=768, bias=True)\n",
       "            (v_lin): Linear(in_features=768, out_features=768, bias=True)\n",
       "            (out_lin): Linear(in_features=768, out_features=768, bias=True)\n",
       "          )\n",
       "          (sa_layer_norm): LayerNorm((768,), eps=1e-12, elementwise_affine=True)\n",
       "          (ffn): FFN(\n",
       "            (dropout): Dropout(p=0.1, inplace=False)\n",
       "            (lin1): Linear(in_features=768, out_features=3072, bias=True)\n",
       "            (lin2): Linear(in_features=3072, out_features=768, bias=True)\n",
       "          )\n",
       "          (output_layer_norm): LayerNorm((768,), eps=1e-12, elementwise_affine=True)\n",
       "        )\n",
       "        (3): TransformerBlock(\n",
       "          (attention): MultiHeadSelfAttention(\n",
       "            (dropout): Dropout(p=0.1, inplace=False)\n",
       "            (q_lin): Linear(in_features=768, out_features=768, bias=True)\n",
       "            (k_lin): Linear(in_features=768, out_features=768, bias=True)\n",
       "            (v_lin): Linear(in_features=768, out_features=768, bias=True)\n",
       "            (out_lin): Linear(in_features=768, out_features=768, bias=True)\n",
       "          )\n",
       "          (sa_layer_norm): LayerNorm((768,), eps=1e-12, elementwise_affine=True)\n",
       "          (ffn): FFN(\n",
       "            (dropout): Dropout(p=0.1, inplace=False)\n",
       "            (lin1): Linear(in_features=768, out_features=3072, bias=True)\n",
       "            (lin2): Linear(in_features=3072, out_features=768, bias=True)\n",
       "          )\n",
       "          (output_layer_norm): LayerNorm((768,), eps=1e-12, elementwise_affine=True)\n",
       "        )\n",
       "        (4): TransformerBlock(\n",
       "          (attention): MultiHeadSelfAttention(\n",
       "            (dropout): Dropout(p=0.1, inplace=False)\n",
       "            (q_lin): Linear(in_features=768, out_features=768, bias=True)\n",
       "            (k_lin): Linear(in_features=768, out_features=768, bias=True)\n",
       "            (v_lin): Linear(in_features=768, out_features=768, bias=True)\n",
       "            (out_lin): Linear(in_features=768, out_features=768, bias=True)\n",
       "          )\n",
       "          (sa_layer_norm): LayerNorm((768,), eps=1e-12, elementwise_affine=True)\n",
       "          (ffn): FFN(\n",
       "            (dropout): Dropout(p=0.1, inplace=False)\n",
       "            (lin1): Linear(in_features=768, out_features=3072, bias=True)\n",
       "            (lin2): Linear(in_features=3072, out_features=768, bias=True)\n",
       "          )\n",
       "          (output_layer_norm): LayerNorm((768,), eps=1e-12, elementwise_affine=True)\n",
       "        )\n",
       "        (5): TransformerBlock(\n",
       "          (attention): MultiHeadSelfAttention(\n",
       "            (dropout): Dropout(p=0.1, inplace=False)\n",
       "            (q_lin): Linear(in_features=768, out_features=768, bias=True)\n",
       "            (k_lin): Linear(in_features=768, out_features=768, bias=True)\n",
       "            (v_lin): Linear(in_features=768, out_features=768, bias=True)\n",
       "            (out_lin): Linear(in_features=768, out_features=768, bias=True)\n",
       "          )\n",
       "          (sa_layer_norm): LayerNorm((768,), eps=1e-12, elementwise_affine=True)\n",
       "          (ffn): FFN(\n",
       "            (dropout): Dropout(p=0.1, inplace=False)\n",
       "            (lin1): Linear(in_features=768, out_features=3072, bias=True)\n",
       "            (lin2): Linear(in_features=3072, out_features=768, bias=True)\n",
       "          )\n",
       "          (output_layer_norm): LayerNorm((768,), eps=1e-12, elementwise_affine=True)\n",
       "        )\n",
       "      )\n",
       "    )\n",
       "  )\n",
       "  (vocab_transform): Linear(in_features=768, out_features=768, bias=True)\n",
       "  (vocab_layer_norm): LayerNorm((768,), eps=1e-12, elementwise_affine=True)\n",
       "  (vocab_projector): Linear(in_features=768, out_features=28996, bias=True)\n",
       "  (mlm_loss_fct): CrossEntropyLoss()\n",
       ")"
      ]
     },
     "execution_count": 70,
     "metadata": {},
     "output_type": "execute_result"
    }
   ],
   "source": [
    "model"
   ]
  }
 ],
 "metadata": {
  "kernelspec": {
   "display_name": "Python 3 (ipykernel)",
   "language": "python",
   "name": "python3"
  },
  "language_info": {
   "codemirror_mode": {
    "name": "ipython",
    "version": 3
   },
   "file_extension": ".py",
   "mimetype": "text/x-python",
   "name": "python",
   "nbconvert_exporter": "python",
   "pygments_lexer": "ipython3",
   "version": "3.8.12"
  }
 },
 "nbformat": 4,
 "nbformat_minor": 4
}
