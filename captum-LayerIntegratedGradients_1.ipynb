{
 "cells": [
  {
   "cell_type": "code",
   "execution_count": 9,
   "metadata": {},
   "outputs": [],
   "source": [
    "import itertools\n",
    "import numpy as np\n",
    "import pandas as pd\n",
    "import matplotlib\n",
    "import seaborn as sns\n",
    "import plotnine\n",
    "from plotnine import *\n",
    "import torch\n",
    "from transformers import AutoModelForMaskedLM, AutoTokenizer\n",
    "\n",
    "from captum.attr import visualization as viz\n",
    "from captum.attr import LayerIntegratedGradients\n",
    "from captum.attr import configure_interpretable_embedding_layer, remove_interpretable_embedding_layer\n",
    "\n",
    "plotnine.options.figure_size = (12, 12)\n",
    "import warnings\n",
    "warnings.filterwarnings(\"ignore\")"
   ]
  },
  {
   "cell_type": "code",
   "execution_count": 2,
   "metadata": {},
   "outputs": [],
   "source": [
    "transformer = \"distilbert-base-cased\"\n",
    "#transformer = \"roberta-base\"\n",
    "#transformer = \"twmkn9/bert-base-uncased-squad2\"\n",
    "tokenizer = AutoTokenizer.from_pretrained(transformer)\n",
    "model = AutoModelForMaskedLM.from_pretrained(transformer)\n",
    "model.eval()\n",
    "model.zero_grad()"
   ]
  },
  {
   "cell_type": "code",
   "execution_count": 3,
   "metadata": {},
   "outputs": [],
   "source": [
    "def prepare_data_for_sentence(sent, N):\n",
    "    input_seq = tokenizer.encode(sent)\n",
    "\n",
    "    mask_index = input_seq.index(tokenizer.mask_token_id)\n",
    "#    print(mask_index)\n",
    "\n",
    "    input_tensor = torch.tensor([input_seq])\n",
    "\n",
    "    input_result = model.forward(input_tensor, return_dict=True)\n",
    "\n",
    "    input_result.logits.shape\n",
    "\n",
    "    token_logits = input_result.logits\n",
    "    mask_token_logits = token_logits[0, mask_index, :]\n",
    "    mask_token_probs = torch.nn.functional.softmax(mask_token_logits, dim=0)\n",
    "\n",
    "    # get the top predictions for the non-occluded sentence\n",
    "    top_N = torch.topk(mask_token_probs, N, dim=0)\n",
    "#    print(top_N)\n",
    "    probs = top_N.values.tolist()\n",
    "    top_N_tokens = top_N.indices.tolist()\n",
    "#    print(probs, sum(probs), top_N_tokens)\n",
    "    return input_seq, top_N_tokens, mask_index"
   ]
  },
  {
   "cell_type": "code",
   "execution_count": 4,
   "metadata": {
    "code_folding": []
   },
   "outputs": [],
   "source": [
    "def custom_forward(inputs, attention_mask=None, pos=0):\n",
    "#    result = model.forward(inputs.double(), return_dict=True, attention_mask=attention_mask)\n",
    "#    print(\"POS\", pos)\n",
    "    result = model.forward(inputs, return_dict=True, attention_mask=attention_mask)\n",
    "    preds = result.logits\n",
    "#    print(\"PREDS SHAPE:\", preds.shape)\n",
    "    N_token = preds[:, pos, :]\n",
    "#()    print(\"SHAPE\", N_token.shape)\n",
    "    return N_token\n",
    "\n",
    "def summarize_attributions(attributions):\n",
    "    attributions = attributions.sum(dim=-1).squeeze(0)\n",
    "    attributions = attributions / torch.norm(attributions)\n",
    "    return attributions\n",
    "\n",
    "def construct_whole_bert_embeddings(input_ids, ref_input_ids):\n",
    "    \n",
    "    input_embeddings = interpretable_embedding.indices_to_embeddings(input_ids)\n",
    "    #, token_type_ids=token_type_ids, position_ids=position_ids)\n",
    "    ref_input_embeddings = interpretable_embedding.indices_to_embeddings(ref_input_ids)\n",
    "    #, token_type_ids=token_type_ids, position_ids=position_ids)\n",
    "\n",
    "    return input_embeddings, ref_input_embeddings\n",
    "\n",
    "\n",
    "def run_attribution_model(input_seq, ref_token_id, top_N_tokens, mask_index, layer):\n",
    "    interpretable_embedding = configure_interpretable_embedding_layer(model, 'distilbert.embeddings')\n",
    "    try:\n",
    "        ablator = LayerIntegratedGradients(custom_forward, layer)\n",
    "\n",
    "        input_tensor = torch.tensor([input_seq] * len(top_N_tokens))\n",
    "        ref_tensor = torch.tensor([ref_token_id]).expand((1,len(input_seq)))\n",
    "        interpretable_input_tensor = interpretable_embedding.indices_to_embeddings(input_tensor)\n",
    "        ref_tensor = interpretable_embedding.indices_to_embeddings(ref_tensor)\n",
    "\n",
    "        attention_mask = torch.ones_like(input_tensor)\n",
    "        attributions = ablator.attribute(\n",
    "                inputs=interpretable_input_tensor,\n",
    "                baselines=ref_tensor,\n",
    "                additional_forward_args=(attention_mask,mask_index),\n",
    "                target=top_N_tokens,\n",
    "        )\n",
    "        attributions = summarize_attributions(attributions)\n",
    "    finally:\n",
    "        remove_interpretable_embedding_layer(model, interpretable_embedding)\n",
    "\n",
    "    return attributions.T"
   ]
  },
  {
   "cell_type": "code",
   "execution_count": 5,
   "metadata": {
    "code_folding": []
   },
   "outputs": [],
   "source": [
    "def build_dataframe(attributions, input_seq, top_N_tokens):\n",
    "\n",
    "    ix = pd.CategoricalIndex(\n",
    "                [tokenizer.decode([token]) for token in input_seq],\n",
    "                categories=reversed([tokenizer.decode([token]) for token in input_seq]),\n",
    "                ordered=True\n",
    "            )\n",
    "#    print(ix)\n",
    "    attr_df = (\n",
    "        pd.DataFrame(\n",
    "                attributions.detach().numpy(), \n",
    "                columns=[tokenizer.decode([token]) for token in top_N_tokens],\n",
    "                index=ix,\n",
    "            )\n",
    "        .reset_index()\n",
    "    )\n",
    "    attr_df = attr_df.melt(id_vars=[\"index\"])\n",
    "    #attr_df = attr_df[~(attr_df['index'] == tokenizer.mask_token)]\n",
    "    attr_df['variable'] = pd.Categorical(\n",
    "            attr_df['variable'], \n",
    "            categories = [tokenizer.decode([token]) for token in top_N_tokens], \n",
    "            ordered=True\n",
    "        )\n",
    "    attr_df['display_value'] = attr_df['value'].apply(lambda f: f\"{f:.2f}\")\n",
    "    return attr_df\n",
    "    "
   ]
  },
  {
   "cell_type": "code",
   "execution_count": 6,
   "metadata": {
    "code_folding": []
   },
   "outputs": [],
   "source": [
    "def create_plot(attr_df, mask_index, N):\n",
    "    ncol = np.ceil(np.sqrt(N))\n",
    "    return (ggplot(attr_df, aes(x=\"index\", y=\"value\")) + \n",
    "        geom_col(aes(fill=\"index\", colour=\"index\"))  +\n",
    "        geom_text(aes(y=\"value/2\", label=\"display_value\"), size=10) +\n",
    "#        geom_label(aes(x = len(input_seq) - mask_index, y= 0, label=\"variable\"), size=13, boxstyle=\"darrow\") +\n",
    "        scale_x_discrete(drop=False) +\n",
    "        facet_wrap(\"~variable\", ncol=ncol) +\n",
    "        coord_flip() +\n",
    "        labs(\n",
    "                x=\"target token\",\n",
    "                y=\"Captum contribution scores\",\n",
    "#                title=\"Exploring the contribution of each token to the prediction.\"\n",
    "            ) +\n",
    "        theme(legend_position=\"none\")\n",
    "    )"
   ]
  },
  {
   "cell_type": "code",
   "execution_count": 7,
   "metadata": {},
   "outputs": [],
   "source": [
    "def run_and_show(sentence, mask_tokens, reference=[tokenizer.unk_token_id], layer=None):\n",
    "    if isinstance(mask_tokens, int):\n",
    "        N = mask_tokens\n",
    "        input_seq, mask_tokens, mask_index = prepare_data_for_sentence(sentence, N)\n",
    "    else:\n",
    "        N = len(mask_tokens)\n",
    "        if isinstance(mask_tokens[0], str):\n",
    "            mask_tokens = tokenizer.convert_tokens_to_ids(mask_tokens)\n",
    "        input_seq, _, mask_index = prepare_data_for_sentence(sentence, N)\n",
    "\n",
    "    attributions = []\n",
    "    for ref in reference:\n",
    "        attributions.append(run_attribution_model(input_seq, ref, mask_tokens, mask_index, layer))\n",
    "    attributions = torch.stack(attributions).mean(axis=0)\n",
    "    df = build_dataframe(attributions, input_seq, mask_tokens)\n",
    "    plot = create_plot(df, mask_index, N)\n",
    "    display(plot)\n",
    "    return df, mask_index"
   ]
  },
  {
   "cell_type": "code",
   "execution_count": 8,
   "metadata": {},
   "outputs": [],
   "source": [
    "def run_no_show(sentence, mask_tokens, reference=[tokenizer.unk_token_id], layer=None):\n",
    "    if isinstance(mask_tokens, int):\n",
    "        N = mask_tokens\n",
    "        input_seq, mask_tokens, mask_index = prepare_data_for_sentence(sentence, N)\n",
    "    else:\n",
    "        N = len(mask_tokens)\n",
    "        if isinstance(mask_tokens[0], str):\n",
    "            mask_tokens = tokenizer.convert_tokens_to_ids(mask_tokens)\n",
    "        input_seq, _, mask_index = prepare_data_for_sentence(sentence, N)\n",
    "\n",
    "    attributions = []\n",
    "    for ref in reference:\n",
    "        attributions.append(run_attribution_model(input_seq, ref, mask_tokens, mask_index, layer))\n",
    "    attributions = torch.stack(attributions).mean(axis=0)\n",
    "    df = build_dataframe(attributions, input_seq, mask_tokens)\n",
    "    return df, mask_index"
   ]
  },
  {
   "cell_type": "code",
   "execution_count": 170,
   "metadata": {},
   "outputs": [],
   "source": [
    "from IPython.display import HTML\n",
    "import re\n",
    "\n",
    "def html_for_sentences(df, mask_index, groupings):\n",
    "    if len(groupings) > 1:\n",
    "        output = \"<div>\"\n",
    "        group = groupings.pop(0)\n",
    "        for g, gdf in df.groupby(group):\n",
    "            output += f\"<div>{group}: {g}</div><div style='padding-left:2em;'>\"\n",
    "            output += html_for_sentences(gdf, mask_index, groupings)\n",
    "            output += \"</div>\"\n",
    "        output += \"</div>\"\n",
    "    else:\n",
    "        output = \"<table>\"\n",
    "        for label, lvl in df.groupby(groupings[0]):\n",
    "            output += f\"<tr><th>{label}</th>\"\n",
    "            for v, grp in lvl.groupby('variable'):\n",
    "                for i, row in grp.iterrows():\n",
    "                    pct = int(row['rel_value'] * 100)\n",
    "                    g = 10 + pct\n",
    "                    b = 150 + pct\n",
    "                    if row['value'] >= 0:\n",
    "                        r = g\n",
    "                    else:\n",
    "                        r = b\n",
    "                    a = (row['rel_value'] / 2) + 0.3\n",
    "                    color = \",\".join(list(map(str, [r,g,b,a])))\n",
    "                    size = (0.5 + (row['rel_value'] / 2) + 0.3) * 1.5\n",
    "\n",
    "                    if i % len(grp) == mask_index:\n",
    "                        output += f\"<td><span style='font-size: {size}em; text-decoration:underline;  color: rgba({color}'>{row['variable']}</span></td>\"\n",
    "                    else:\n",
    "                        word = row['index'].strip()\n",
    "                        word = re.sub(r'<', '&lt;', re.sub(r'>', '&gt;', word))\n",
    "                        output += f\"<td><span style='font-size: {size}em; color: rgba({color});'>{word}</span></td>\"\n",
    "            output += \"</tr><tr><th/>\"\n",
    "            for v, grp in lvl.groupby('variable'):\n",
    "                for i, row in grp.iterrows():\n",
    "                    output += f\"<td style='font-size: 0.7em'>{round(row['value'],3)}</td>\"\n",
    "            output += \"</tr>\"\n",
    "        output += \"</table>\"\n",
    "    return output\n"
   ]
  },
  {
   "cell_type": "code",
   "execution_count": 156,
   "metadata": {},
   "outputs": [
    {
     "name": "stdout",
     "output_type": "stream",
     "text": [
      "[18593 25119 18503  4291  7840 27513  8231  3386 23858 14233 20925  2194\n",
      " 10027 14065  2072 16659 16280 19265 27845 12211]\n"
     ]
    }
   ],
   "source": [
    "from numpy.random import default_rng\n",
    "rng = default_rng()\n",
    "sample = rng.integers(model.config.vocab_size, size=20)\n",
    "print(sample)"
   ]
  },
  {
   "cell_type": "code",
   "execution_count": 157,
   "metadata": {},
   "outputs": [
    {
     "name": "stdout",
     "output_type": "stream",
     "text": [
      "['artery', 'Telecom', '##bey', 'sector', 'fourteen', 'coordinating', '##EC', 'era', 'balancing', 'Waterloo', 'terminology', 'provide', 'offense', 'Audio', 'entire', '##claim', 'auditorium', 'Oracle', 'Evaluation', 'exam']\n"
     ]
    }
   ],
   "source": [
    "print([tokenizer.decode([t]) for t in sample])"
   ]
  },
  {
   "cell_type": "code",
   "execution_count": 161,
   "metadata": {},
   "outputs": [
    {
     "name": "stdout",
     "output_type": "stream",
     "text": [
      "CPU times: user 5min 55s, sys: 14.6 s, total: 6min 9s\n",
      "Wall time: 1min 32s\n"
     ]
    }
   ],
   "source": [
    "%%time\n",
    "full_df = None\n",
    "for sample in [[tokenizer.unk_token_id], [tokenizer.pad_token_id], sample]:\n",
    "    sample_df = None\n",
    "    for i in range(6):\n",
    "        layer = getattr(model.distilbert.transformer.layer, f\"{i}\")\n",
    "        df, mask_index = run_no_show(f\"The cat from the neighbours chases a {tokenizer.mask_token}.\", [\"mouse\"], reference=sample, layer=layer)\n",
    "        df['layer'] = f\"layer {i+1}\"\n",
    "        df['rel_value'] = (df['value'].abs() / df['value'].abs().max()).round(2)\n",
    "\n",
    "        if sample_df is None:\n",
    "            sample_df = df\n",
    "        else:\n",
    "            sample_df = pd.concat([sample_df, df])\n",
    "    sample_df['sample'] = \"; \".join([tokenizer.decode([t]) for t in sample])\n",
    "    if full_df is None:\n",
    "        full_df = sample_df\n",
    "    else:\n",
    "        full_df = pd.concat([full_df, sample_df])\n",
    "        "
   ]
  },
  {
   "cell_type": "code",
   "execution_count": 172,
   "metadata": {
    "scrolled": false
   },
   "outputs": [
    {
     "data": {
      "text/html": [
       "<div><div>layer: layer 1</div><div style='padding-left:2em;'><table><tr><th>[PAD]</th><td><span style='font-size: 1.4249999999999998em; color: rgba(40,40,180,0.44999999999999996);'>[CLS]</span></td><td><span style='font-size: 1.2525em; color: rgba(17,17,157,0.33499999999999996);'>The</span></td><td><span style='font-size: 1.7100000000000002em; color: rgba(78,78,218,0.64);'>cat</span></td><td><span style='font-size: 1.2675em; color: rgba(19,19,159,0.345);'>from</span></td><td><span style='font-size: 1.2075em; color: rgba(151,11,151,0.305);'>the</span></td><td><span style='font-size: 1.245em; color: rgba(16,16,156,0.32999999999999996);'>neighbours</span></td><td><span style='font-size: 1.3499999999999999em; color: rgba(30,30,170,0.4);'>chase</span></td><td><span style='font-size: 1.3125em; color: rgba(25,25,165,0.375);'>##s</span></td><td><span style='font-size: 1.4175em; color: rgba(38,38,178,0.44499999999999995);'>a</span></td><td><span style='font-size: 1.4325em; text-decoration:underline;  color: rgba(41,41,181,0.45499999999999996'>mouse</span></td><td><span style='font-size: 1.5em; color: rgba(50,50,190,0.5);'>.</span></td><td><span style='font-size: 1.9500000000000002em; color: rgba(110,110,250,0.8);'>[SEP]</span></td></tr><tr><th/><td style='font-size: 0.7em'>0.215</td><td style='font-size: 0.7em'>0.046</td><td style='font-size: 0.7em'>0.485</td><td style='font-size: 0.7em'>0.063</td><td style='font-size: 0.7em'>-0.006</td><td style='font-size: 0.7em'>0.039</td><td style='font-size: 0.7em'>0.142</td><td style='font-size: 0.7em'>0.109</td><td style='font-size: 0.7em'>0.208</td><td style='font-size: 0.7em'>0.221</td><td style='font-size: 0.7em'>0.283</td><td style='font-size: 0.7em'>0.712</td></tr><tr><th>[UNK]</th><td><span style='font-size: 1.3575em; color: rgba(31,31,171,0.40499999999999997);'>[CLS]</span></td><td><span style='font-size: 1.23em; color: rgba(14,14,154,0.32);'>The</span></td><td><span style='font-size: 1.455em; color: rgba(44,44,184,0.47);'>cat</span></td><td><span style='font-size: 1.23em; color: rgba(14,14,154,0.32);'>from</span></td><td><span style='font-size: 1.2000000000000002em; color: rgba(150,10,150,0.3);'>the</span></td><td><span style='font-size: 1.2600000000000002em; color: rgba(18,18,158,0.33999999999999997);'>neighbours</span></td><td><span style='font-size: 1.3575em; color: rgba(31,31,171,0.40499999999999997);'>chase</span></td><td><span style='font-size: 1.2750000000000001em; color: rgba(20,20,160,0.35);'>##s</span></td><td><span style='font-size: 1.4025em; color: rgba(37,37,177,0.435);'>a</span></td><td><span style='font-size: 1.5825em; text-decoration:underline;  color: rgba(61,61,201,0.5549999999999999'>mouse</span></td><td><span style='font-size: 1.3499999999999999em; color: rgba(30,30,170,0.4);'>.</span></td><td><span style='font-size: 1.9500000000000002em; color: rgba(110,110,250,0.8);'>[SEP]</span></td></tr><tr><th/><td style='font-size: 0.7em'>0.169</td><td style='font-size: 0.7em'>0.031</td><td style='font-size: 0.7em'>0.269</td><td style='font-size: 0.7em'>0.031</td><td style='font-size: 0.7em'>-0.002</td><td style='font-size: 0.7em'>0.062</td><td style='font-size: 0.7em'>0.169</td><td style='font-size: 0.7em'>0.083</td><td style='font-size: 0.7em'>0.21</td><td style='font-size: 0.7em'>0.401</td><td style='font-size: 0.7em'>0.16</td><td style='font-size: 0.7em'>0.792</td></tr><tr><th>artery; Telecom; ##bey; sector; fourteen; coordinating; ##EC; era; balancing; Waterloo; terminology; provide; offense; Audio; entire; ##claim; auditorium; Oracle; Evaluation; exam</th><td><span style='font-size: 1.545em; color: rgba(56,56,196,0.53);'>[CLS]</span></td><td><span style='font-size: 1.3425em; color: rgba(29,29,169,0.395);'>The</span></td><td><span style='font-size: 1.5975em; color: rgba(63,63,203,0.565);'>cat</span></td><td><span style='font-size: 1.2374999999999998em; color: rgba(15,15,155,0.325);'>from</span></td><td><span style='font-size: 1.2374999999999998em; color: rgba(155,15,155,0.325);'>the</span></td><td><span style='font-size: 1.29em; color: rgba(22,22,162,0.36);'>neighbours</span></td><td><span style='font-size: 1.6425em; color: rgba(69,69,209,0.595);'>chase</span></td><td><span style='font-size: 1.3499999999999999em; color: rgba(30,30,170,0.4);'>##s</span></td><td><span style='font-size: 1.4325em; color: rgba(41,41,181,0.45499999999999996);'>a</span></td><td><span style='font-size: 1.53em; text-decoration:underline;  color: rgba(54,54,194,0.52'>mouse</span></td><td><span style='font-size: 1.3875000000000002em; color: rgba(35,35,175,0.425);'>.</span></td><td><span style='font-size: 1.9500000000000002em; color: rgba(110,110,250,0.8);'>[SEP]</span></td></tr><tr><th/><td style='font-size: 0.7em'>0.276</td><td style='font-size: 0.7em'>0.115</td><td style='font-size: 0.7em'>0.315</td><td style='font-size: 0.7em'>0.031</td><td style='font-size: 0.7em'>-0.028</td><td style='font-size: 0.7em'>0.075</td><td style='font-size: 0.7em'>0.352</td><td style='font-size: 0.7em'>0.117</td><td style='font-size: 0.7em'>0.187</td><td style='font-size: 0.7em'>0.264</td><td style='font-size: 0.7em'>0.15</td><td style='font-size: 0.7em'>0.599</td></tr></table></div><div>layer: layer 2</div><div style='padding-left:2em;'><table><tr><th>[PAD]</th><td><span style='font-size: 1.2974999999999999em; color: rgba(23,23,163,0.365);'>[CLS]</span></td><td><span style='font-size: 1.2600000000000002em; color: rgba(18,18,158,0.33999999999999997);'>The</span></td><td><span style='font-size: 1.4475000000000002em; color: rgba(43,43,183,0.46499999999999997);'>cat</span></td><td><span style='font-size: 1.2675em; color: rgba(19,19,159,0.345);'>from</span></td><td><span style='font-size: 1.215em; color: rgba(152,12,152,0.31);'>the</span></td><td><span style='font-size: 1.2000000000000002em; color: rgba(10,10,150,0.3);'>neighbours</span></td><td><span style='font-size: 1.2974999999999999em; color: rgba(23,23,163,0.365);'>chase</span></td><td><span style='font-size: 1.2374999999999998em; color: rgba(15,15,155,0.325);'>##s</span></td><td><span style='font-size: 1.335em; color: rgba(28,28,168,0.39);'>a</span></td><td><span style='font-size: 1.5750000000000002em; text-decoration:underline;  color: rgba(60,60,200,0.55'>mouse</span></td><td><span style='font-size: 1.3649999999999998em; color: rgba(32,32,172,0.41);'>.</span></td><td><span style='font-size: 1.9500000000000002em; color: rgba(110,110,250,0.8);'>[SEP]</span></td></tr><tr><th/><td style='font-size: 0.7em'>0.108</td><td style='font-size: 0.7em'>0.069</td><td style='font-size: 0.7em'>0.268</td><td style='font-size: 0.7em'>0.071</td><td style='font-size: 0.7em'>-0.014</td><td style='font-size: 0.7em'>0.001</td><td style='font-size: 0.7em'>0.105</td><td style='font-size: 0.7em'>0.041</td><td style='font-size: 0.7em'>0.147</td><td style='font-size: 0.7em'>0.411</td><td style='font-size: 0.7em'>0.179</td><td style='font-size: 0.7em'>0.819</td></tr><tr><th>[UNK]</th><td><span style='font-size: 1.3575em; color: rgba(31,31,171,0.40499999999999997);'>[CLS]</span></td><td><span style='font-size: 1.2075em; color: rgba(151,11,151,0.305);'>The</span></td><td><span style='font-size: 1.4325em; color: rgba(41,41,181,0.45499999999999996);'>cat</span></td><td><span style='font-size: 1.2225em; color: rgba(13,13,153,0.315);'>from</span></td><td><span style='font-size: 1.2075em; color: rgba(151,11,151,0.305);'>the</span></td><td><span style='font-size: 1.2075em; color: rgba(11,11,151,0.305);'>neighbours</span></td><td><span style='font-size: 1.3649999999999998em; color: rgba(32,32,172,0.41);'>chase</span></td><td><span style='font-size: 1.2675em; color: rgba(19,19,159,0.345);'>##s</span></td><td><span style='font-size: 1.4025em; color: rgba(37,37,177,0.435);'>a</span></td><td><span style='font-size: 1.6724999999999999em; text-decoration:underline;  color: rgba(73,73,213,0.615'>mouse</span></td><td><span style='font-size: 1.3649999999999998em; color: rgba(32,32,172,0.41);'>.</span></td><td><span style='font-size: 1.9500000000000002em; color: rgba(110,110,250,0.8);'>[SEP]</span></td></tr><tr><th/><td style='font-size: 0.7em'>0.157</td><td style='font-size: 0.7em'>-0.008</td><td style='font-size: 0.7em'>0.235</td><td style='font-size: 0.7em'>0.023</td><td style='font-size: 0.7em'>-0.004</td><td style='font-size: 0.7em'>0.01</td><td style='font-size: 0.7em'>0.168</td><td style='font-size: 0.7em'>0.066</td><td style='font-size: 0.7em'>0.209</td><td style='font-size: 0.7em'>0.48</td><td style='font-size: 0.7em'>0.166</td><td style='font-size: 0.7em'>0.765</td></tr><tr><th>artery; Telecom; ##bey; sector; fourteen; coordinating; ##EC; era; balancing; Waterloo; terminology; provide; offense; Audio; entire; ##claim; auditorium; Oracle; Evaluation; exam</th><td><span style='font-size: 1.3199999999999998em; color: rgba(26,26,166,0.38);'>[CLS]</span></td><td><span style='font-size: 1.2600000000000002em; color: rgba(18,18,158,0.33999999999999997);'>The</span></td><td><span style='font-size: 1.47em; color: rgba(46,46,186,0.48);'>cat</span></td><td><span style='font-size: 1.215em; color: rgba(12,12,152,0.31);'>from</span></td><td><span style='font-size: 1.23em; color: rgba(154,14,154,0.32);'>the</span></td><td><span style='font-size: 1.2000000000000002em; color: rgba(10,10,150,0.3);'>neighbours</span></td><td><span style='font-size: 1.38em; color: rgba(34,34,174,0.42);'>chase</span></td><td><span style='font-size: 1.245em; color: rgba(16,16,156,0.32999999999999996);'>##s</span></td><td><span style='font-size: 1.395em; color: rgba(36,36,176,0.43);'>a</span></td><td><span style='font-size: 1.5750000000000002em; text-decoration:underline;  color: rgba(60,60,200,0.55'>mouse</span></td><td><span style='font-size: 1.3425em; color: rgba(29,29,169,0.395);'>.</span></td><td><span style='font-size: 1.9500000000000002em; color: rgba(110,110,250,0.8);'>[SEP]</span></td></tr><tr><th/><td style='font-size: 0.7em'>0.117</td><td style='font-size: 0.7em'>0.056</td><td style='font-size: 0.7em'>0.267</td><td style='font-size: 0.7em'>0.015</td><td style='font-size: 0.7em'>-0.029</td><td style='font-size: 0.7em'>0.002</td><td style='font-size: 0.7em'>0.176</td><td style='font-size: 0.7em'>0.047</td><td style='font-size: 0.7em'>0.19</td><td style='font-size: 0.7em'>0.366</td><td style='font-size: 0.7em'>0.143</td><td style='font-size: 0.7em'>0.737</td></tr></table></div><div>layer: layer 3</div><div style='padding-left:2em;'><table><tr><th>[PAD]</th><td><span style='font-size: 1.245em; color: rgba(16,16,156,0.32999999999999996);'>[CLS]</span></td><td><span style='font-size: 1.23em; color: rgba(14,14,154,0.32);'>The</span></td><td><span style='font-size: 1.5524999999999998em; color: rgba(57,57,197,0.5349999999999999);'>cat</span></td><td><span style='font-size: 1.2974999999999999em; color: rgba(23,23,163,0.365);'>from</span></td><td><span style='font-size: 1.2675em; color: rgba(19,19,159,0.345);'>the</span></td><td><span style='font-size: 1.23em; color: rgba(14,14,154,0.32);'>neighbours</span></td><td><span style='font-size: 1.6950000000000003em; color: rgba(76,76,216,0.63);'>chase</span></td><td><span style='font-size: 1.29em; color: rgba(22,22,162,0.36);'>##s</span></td><td><span style='font-size: 1.545em; color: rgba(56,56,196,0.53);'>a</span></td><td><span style='font-size: 1.8675000000000002em; text-decoration:underline;  color: rgba(99,99,239,0.745'>mouse</span></td><td><span style='font-size: 1.245em; color: rgba(16,16,156,0.32999999999999996);'>.</span></td><td><span style='font-size: 1.9500000000000002em; color: rgba(110,110,250,0.8);'>[SEP]</span></td></tr><tr><th/><td style='font-size: 0.7em'>0.039</td><td style='font-size: 0.7em'>0.026</td><td style='font-size: 0.7em'>0.285</td><td style='font-size: 0.7em'>0.079</td><td style='font-size: 0.7em'>0.052</td><td style='font-size: 0.7em'>0.024</td><td style='font-size: 0.7em'>0.401</td><td style='font-size: 0.7em'>0.075</td><td style='font-size: 0.7em'>0.279</td><td style='font-size: 0.7em'>0.541</td><td style='font-size: 0.7em'>0.037</td><td style='font-size: 0.7em'>0.607</td></tr><tr><th>[UNK]</th><td><span style='font-size: 1.2974999999999999em; color: rgba(23,23,163,0.365);'>[CLS]</span></td><td><span style='font-size: 1.2974999999999999em; color: rgba(23,23,163,0.365);'>The</span></td><td><span style='font-size: 1.5750000000000002em; color: rgba(60,60,200,0.55);'>cat</span></td><td><span style='font-size: 1.2675em; color: rgba(19,19,159,0.345);'>from</span></td><td><span style='font-size: 1.2600000000000002em; color: rgba(18,18,158,0.33999999999999997);'>the</span></td><td><span style='font-size: 1.2075em; color: rgba(11,11,151,0.305);'>neighbours</span></td><td><span style='font-size: 1.6275em; color: rgba(66,66,206,0.585);'>chase</span></td><td><span style='font-size: 1.2750000000000001em; color: rgba(20,20,160,0.35);'>##s</span></td><td><span style='font-size: 1.5524999999999998em; color: rgba(57,57,197,0.5349999999999999);'>a</span></td><td><span style='font-size: 1.9500000000000002em; text-decoration:underline;  color: rgba(110,110,250,0.8'>mouse</span></td><td><span style='font-size: 1.2974999999999999em; color: rgba(23,23,163,0.365);'>.</span></td><td><span style='font-size: 1.665em; color: rgba(72,72,212,0.61);'>[SEP]</span></td></tr><tr><th/><td style='font-size: 0.7em'>0.086</td><td style='font-size: 0.7em'>0.089</td><td style='font-size: 0.7em'>0.334</td><td style='font-size: 0.7em'>0.063</td><td style='font-size: 0.7em'>0.056</td><td style='font-size: 0.7em'>0.007</td><td style='font-size: 0.7em'>0.378</td><td style='font-size: 0.7em'>0.066</td><td style='font-size: 0.7em'>0.311</td><td style='font-size: 0.7em'>0.668</td><td style='font-size: 0.7em'>0.085</td><td style='font-size: 0.7em'>0.411</td></tr><tr><th>artery; Telecom; ##bey; sector; fourteen; coordinating; ##EC; era; balancing; Waterloo; terminology; provide; offense; Audio; entire; ##claim; auditorium; Oracle; Evaluation; exam</th><td><span style='font-size: 1.2525em; color: rgba(17,17,157,0.33499999999999996);'>[CLS]</span></td><td><span style='font-size: 1.2374999999999998em; color: rgba(15,15,155,0.325);'>The</span></td><td><span style='font-size: 1.59em; color: rgba(62,62,202,0.56);'>cat</span></td><td><span style='font-size: 1.23em; color: rgba(14,14,154,0.32);'>from</span></td><td><span style='font-size: 1.2225em; color: rgba(13,13,153,0.315);'>the</span></td><td><span style='font-size: 1.2225em; color: rgba(153,13,153,0.315);'>neighbours</span></td><td><span style='font-size: 1.59em; color: rgba(62,62,202,0.56);'>chase</span></td><td><span style='font-size: 1.2374999999999998em; color: rgba(15,15,155,0.325);'>##s</span></td><td><span style='font-size: 1.47em; color: rgba(46,46,186,0.48);'>a</span></td><td><span style='font-size: 1.665em; text-decoration:underline;  color: rgba(72,72,212,0.61'>mouse</span></td><td><span style='font-size: 1.215em; color: rgba(12,12,152,0.31);'>.</span></td><td><span style='font-size: 1.9500000000000002em; color: rgba(110,110,250,0.8);'>[SEP]</span></td></tr><tr><th/><td style='font-size: 0.7em'>0.044</td><td style='font-size: 0.7em'>0.031</td><td style='font-size: 0.7em'>0.343</td><td style='font-size: 0.7em'>0.028</td><td style='font-size: 0.7em'>0.018</td><td style='font-size: 0.7em'>-0.019</td><td style='font-size: 0.7em'>0.341</td><td style='font-size: 0.7em'>0.034</td><td style='font-size: 0.7em'>0.238</td><td style='font-size: 0.7em'>0.406</td><td style='font-size: 0.7em'>0.016</td><td style='font-size: 0.7em'>0.655</td></tr></table></div><div>layer: layer 4</div><div style='padding-left:2em;'><table><tr><th>[PAD]</th><td><span style='font-size: 1.2825em; color: rgba(21,21,161,0.355);'>[CLS]</span></td><td><span style='font-size: 1.2600000000000002em; color: rgba(18,18,158,0.33999999999999997);'>The</span></td><td><span style='font-size: 1.62em; color: rgba(66,66,206,0.5800000000000001);'>cat</span></td><td><span style='font-size: 1.2075em; color: rgba(151,11,151,0.305);'>from</span></td><td><span style='font-size: 1.23em; color: rgba(14,14,154,0.32);'>the</span></td><td><span style='font-size: 1.23em; color: rgba(14,14,154,0.32);'>neighbours</span></td><td><span style='font-size: 1.455em; color: rgba(44,44,184,0.47);'>chase</span></td><td><span style='font-size: 1.2750000000000001em; color: rgba(20,20,160,0.35);'>##s</span></td><td><span style='font-size: 1.29em; color: rgba(22,22,162,0.36);'>a</span></td><td><span style='font-size: 1.9500000000000002em; text-decoration:underline;  color: rgba(110,110,250,0.8'>mouse</span></td><td><span style='font-size: 1.215em; color: rgba(12,12,152,0.31);'>.</span></td><td><span style='font-size: 1.4925000000000002em; color: rgba(49,49,189,0.495);'>[SEP]</span></td></tr><tr><th/><td style='font-size: 0.7em'>0.086</td><td style='font-size: 0.7em'>0.063</td><td style='font-size: 0.7em'>0.437</td><td style='font-size: 0.7em'>-0.006</td><td style='font-size: 0.7em'>0.034</td><td style='font-size: 0.7em'>0.032</td><td style='font-size: 0.7em'>0.266</td><td style='font-size: 0.7em'>0.077</td><td style='font-size: 0.7em'>0.091</td><td style='font-size: 0.7em'>0.785</td><td style='font-size: 0.7em'>0.012</td><td style='font-size: 0.7em'>0.305</td></tr><tr><th>[UNK]</th><td><span style='font-size: 1.2825em; color: rgba(21,21,161,0.355);'>[CLS]</span></td><td><span style='font-size: 1.245em; color: rgba(16,16,156,0.32999999999999996);'>The</span></td><td><span style='font-size: 1.59em; color: rgba(62,62,202,0.56);'>cat</span></td><td><span style='font-size: 1.2225em; color: rgba(153,13,153,0.315);'>from</span></td><td><span style='font-size: 1.2075em; color: rgba(11,11,151,0.305);'>the</span></td><td><span style='font-size: 1.2000000000000002em; color: rgba(150,10,150,0.3);'>neighbours</span></td><td><span style='font-size: 1.41em; color: rgba(38,38,178,0.44);'>chase</span></td><td><span style='font-size: 1.2525em; color: rgba(17,17,157,0.33499999999999996);'>##s</span></td><td><span style='font-size: 1.2825em; color: rgba(21,21,161,0.355);'>a</span></td><td><span style='font-size: 1.9500000000000002em; text-decoration:underline;  color: rgba(110,110,250,0.8'>mouse</span></td><td><span style='font-size: 1.2225em; color: rgba(13,13,153,0.315);'>.</span></td><td><span style='font-size: 1.3199999999999998em; color: rgba(26,26,166,0.38);'>[SEP]</span></td></tr><tr><th/><td style='font-size: 0.7em'>0.09</td><td style='font-size: 0.7em'>0.049</td><td style='font-size: 0.7em'>0.439</td><td style='font-size: 0.7em'>-0.029</td><td style='font-size: 0.7em'>0.008</td><td style='font-size: 0.7em'>-0.001</td><td style='font-size: 0.7em'>0.239</td><td style='font-size: 0.7em'>0.058</td><td style='font-size: 0.7em'>0.091</td><td style='font-size: 0.7em'>0.842</td><td style='font-size: 0.7em'>0.023</td><td style='font-size: 0.7em'>0.133</td></tr><tr><th>artery; Telecom; ##bey; sector; fourteen; coordinating; ##EC; era; balancing; Waterloo; terminology; provide; offense; Audio; entire; ##claim; auditorium; Oracle; Evaluation; exam</th><td><span style='font-size: 1.2750000000000001em; color: rgba(20,20,160,0.35);'>[CLS]</span></td><td><span style='font-size: 1.245em; color: rgba(16,16,156,0.32999999999999996);'>The</span></td><td><span style='font-size: 1.8525em; color: rgba(97,97,237,0.735);'>cat</span></td><td><span style='font-size: 1.2525em; color: rgba(157,17,157,0.33499999999999996);'>from</span></td><td><span style='font-size: 1.215em; color: rgba(12,12,152,0.31);'>the</span></td><td><span style='font-size: 1.2225em; color: rgba(13,13,153,0.315);'>neighbours</span></td><td><span style='font-size: 1.4849999999999999em; color: rgba(48,48,188,0.49);'>chase</span></td><td><span style='font-size: 1.2750000000000001em; color: rgba(20,20,160,0.35);'>##s</span></td><td><span style='font-size: 1.3199999999999998em; color: rgba(26,26,166,0.38);'>a</span></td><td><span style='font-size: 1.9500000000000002em; text-decoration:underline;  color: rgba(110,110,250,0.8'>mouse</span></td><td><span style='font-size: 1.2000000000000002em; color: rgba(10,10,150,0.3);'>.</span></td><td><span style='font-size: 1.47em; color: rgba(46,46,186,0.48);'>[SEP]</span></td></tr><tr><th/><td style='font-size: 0.7em'>0.064</td><td style='font-size: 0.7em'>0.043</td><td style='font-size: 0.7em'>0.573</td><td style='font-size: 0.7em'>-0.048</td><td style='font-size: 0.7em'>0.013</td><td style='font-size: 0.7em'>0.023</td><td style='font-size: 0.7em'>0.251</td><td style='font-size: 0.7em'>0.066</td><td style='font-size: 0.7em'>0.109</td><td style='font-size: 0.7em'>0.662</td><td style='font-size: 0.7em'>0.002</td><td style='font-size: 0.7em'>0.237</td></tr></table></div><div>layer: layer 5</div><div style='padding-left:2em;'><table><tr><th>[PAD]</th><td><span style='font-size: 1.2825em; color: rgba(21,21,161,0.355);'>[CLS]</span></td><td><span style='font-size: 1.2675em; color: rgba(19,19,159,0.345);'>The</span></td><td><span style='font-size: 1.6500000000000001em; color: rgba(70,70,210,0.6);'>cat</span></td><td><span style='font-size: 1.2225em; color: rgba(13,13,153,0.315);'>from</span></td><td><span style='font-size: 1.215em; color: rgba(12,12,152,0.31);'>the</span></td><td><span style='font-size: 1.2075em; color: rgba(11,11,151,0.305);'>neighbours</span></td><td><span style='font-size: 1.2750000000000001em; color: rgba(20,20,160,0.35);'>chase</span></td><td><span style='font-size: 1.23em; color: rgba(14,14,154,0.32);'>##s</span></td><td><span style='font-size: 1.245em; color: rgba(16,16,156,0.32999999999999996);'>a</span></td><td><span style='font-size: 1.9500000000000002em; text-decoration:underline;  color: rgba(110,110,250,0.8'>mouse</span></td><td><span style='font-size: 1.2000000000000002em; color: rgba(10,10,150,0.3);'>.</span></td><td><span style='font-size: 1.3499999999999999em; color: rgba(170,30,170,0.4);'>[SEP]</span></td></tr><tr><th/><td style='font-size: 0.7em'>0.094</td><td style='font-size: 0.7em'>0.073</td><td style='font-size: 0.7em'>0.498</td><td style='font-size: 0.7em'>0.024</td><td style='font-size: 0.7em'>0.013</td><td style='font-size: 0.7em'>0.009</td><td style='font-size: 0.7em'>0.081</td><td style='font-size: 0.7em'>0.035</td><td style='font-size: 0.7em'>0.054</td><td style='font-size: 0.7em'>0.835</td><td style='font-size: 0.7em'>0.002</td><td style='font-size: 0.7em'>-0.169</td></tr><tr><th>[UNK]</th><td><span style='font-size: 1.2600000000000002em; color: rgba(18,18,158,0.33999999999999997);'>[CLS]</span></td><td><span style='font-size: 1.245em; color: rgba(16,16,156,0.32999999999999996);'>The</span></td><td><span style='font-size: 1.5374999999999999em; color: rgba(55,55,195,0.525);'>cat</span></td><td><span style='font-size: 1.215em; color: rgba(12,12,152,0.31);'>from</span></td><td><span style='font-size: 1.2075em; color: rgba(11,11,151,0.305);'>the</span></td><td><span style='font-size: 1.2075em; color: rgba(11,11,151,0.305);'>neighbours</span></td><td><span style='font-size: 1.2675em; color: rgba(19,19,159,0.345);'>chase</span></td><td><span style='font-size: 1.2374999999999998em; color: rgba(15,15,155,0.325);'>##s</span></td><td><span style='font-size: 1.2525em; color: rgba(17,17,157,0.33499999999999996);'>a</span></td><td><span style='font-size: 1.9500000000000002em; text-decoration:underline;  color: rgba(110,110,250,0.8'>mouse</span></td><td><span style='font-size: 1.2000000000000002em; color: rgba(150,10,150,0.3);'>.</span></td><td><span style='font-size: 1.3050000000000002em; color: rgba(164,24,164,0.37);'>[SEP]</span></td></tr><tr><th/><td style='font-size: 0.7em'>0.074</td><td style='font-size: 0.7em'>0.055</td><td style='font-size: 0.7em'>0.403</td><td style='font-size: 0.7em'>0.016</td><td style='font-size: 0.7em'>0.013</td><td style='font-size: 0.7em'>0.007</td><td style='font-size: 0.7em'>0.084</td><td style='font-size: 0.7em'>0.042</td><td style='font-size: 0.7em'>0.059</td><td style='font-size: 0.7em'>0.895</td><td style='font-size: 0.7em'>-0.0</td><td style='font-size: 0.7em'>-0.127</td></tr><tr><th>artery; Telecom; ##bey; sector; fourteen; coordinating; ##EC; era; balancing; Waterloo; terminology; provide; offense; Audio; entire; ##claim; auditorium; Oracle; Evaluation; exam</th><td><span style='font-size: 1.2600000000000002em; color: rgba(18,18,158,0.33999999999999997);'>[CLS]</span></td><td><span style='font-size: 1.2525em; color: rgba(17,17,157,0.33499999999999996);'>The</span></td><td><span style='font-size: 1.6425em; color: rgba(69,69,209,0.595);'>cat</span></td><td><span style='font-size: 1.215em; color: rgba(12,12,152,0.31);'>from</span></td><td><span style='font-size: 1.2000000000000002em; color: rgba(10,10,150,0.3);'>the</span></td><td><span style='font-size: 1.2075em; color: rgba(151,11,151,0.305);'>neighbours</span></td><td><span style='font-size: 1.2825em; color: rgba(21,21,161,0.355);'>chase</span></td><td><span style='font-size: 1.2374999999999998em; color: rgba(15,15,155,0.325);'>##s</span></td><td><span style='font-size: 1.2525em; color: rgba(17,17,157,0.33499999999999996);'>a</span></td><td><span style='font-size: 1.9500000000000002em; text-decoration:underline;  color: rgba(110,110,250,0.8'>mouse</span></td><td><span style='font-size: 1.2000000000000002em; color: rgba(10,10,150,0.3);'>.</span></td><td><span style='font-size: 1.3199999999999998em; color: rgba(166,26,166,0.38);'>[SEP]</span></td></tr><tr><th/><td style='font-size: 0.7em'>0.069</td><td style='font-size: 0.7em'>0.054</td><td style='font-size: 0.7em'>0.486</td><td style='font-size: 0.7em'>0.013</td><td style='font-size: 0.7em'>0.003</td><td style='font-size: 0.7em'>-0.004</td><td style='font-size: 0.7em'>0.09</td><td style='font-size: 0.7em'>0.042</td><td style='font-size: 0.7em'>0.061</td><td style='font-size: 0.7em'>0.828</td><td style='font-size: 0.7em'>0.003</td><td style='font-size: 0.7em'>-0.136</td></tr></table></div><div>layer: layer 6</div><div style='padding-left:2em;'><table><tr><th>[PAD]</th><td><span style='font-size: 1.2000000000000002em; color: rgba(10,10,150,0.3);'>[CLS]</span></td><td><span style='font-size: 1.2000000000000002em; color: rgba(10,10,150,0.3);'>The</span></td><td><span style='font-size: 1.2000000000000002em; color: rgba(10,10,150,0.3);'>cat</span></td><td><span style='font-size: 1.2000000000000002em; color: rgba(10,10,150,0.3);'>from</span></td><td><span style='font-size: 1.2000000000000002em; color: rgba(10,10,150,0.3);'>the</span></td><td><span style='font-size: 1.2000000000000002em; color: rgba(10,10,150,0.3);'>neighbours</span></td><td><span style='font-size: 1.2000000000000002em; color: rgba(10,10,150,0.3);'>chase</span></td><td><span style='font-size: 1.2000000000000002em; color: rgba(10,10,150,0.3);'>##s</span></td><td><span style='font-size: 1.2000000000000002em; color: rgba(10,10,150,0.3);'>a</span></td><td><span style='font-size: 1.9500000000000002em; text-decoration:underline;  color: rgba(110,110,250,0.8'>mouse</span></td><td><span style='font-size: 1.2000000000000002em; color: rgba(10,10,150,0.3);'>.</span></td><td><span style='font-size: 1.2000000000000002em; color: rgba(10,10,150,0.3);'>[SEP]</span></td></tr><tr><th/><td style='font-size: 0.7em'>0.0</td><td style='font-size: 0.7em'>0.0</td><td style='font-size: 0.7em'>0.0</td><td style='font-size: 0.7em'>0.0</td><td style='font-size: 0.7em'>0.0</td><td style='font-size: 0.7em'>0.0</td><td style='font-size: 0.7em'>0.0</td><td style='font-size: 0.7em'>0.0</td><td style='font-size: 0.7em'>0.0</td><td style='font-size: 0.7em'>1.0</td><td style='font-size: 0.7em'>0.0</td><td style='font-size: 0.7em'>0.0</td></tr><tr><th>[UNK]</th><td><span style='font-size: 1.2000000000000002em; color: rgba(10,10,150,0.3);'>[CLS]</span></td><td><span style='font-size: 1.2000000000000002em; color: rgba(10,10,150,0.3);'>The</span></td><td><span style='font-size: 1.2000000000000002em; color: rgba(10,10,150,0.3);'>cat</span></td><td><span style='font-size: 1.2000000000000002em; color: rgba(10,10,150,0.3);'>from</span></td><td><span style='font-size: 1.2000000000000002em; color: rgba(10,10,150,0.3);'>the</span></td><td><span style='font-size: 1.2000000000000002em; color: rgba(10,10,150,0.3);'>neighbours</span></td><td><span style='font-size: 1.2000000000000002em; color: rgba(10,10,150,0.3);'>chase</span></td><td><span style='font-size: 1.2000000000000002em; color: rgba(10,10,150,0.3);'>##s</span></td><td><span style='font-size: 1.2000000000000002em; color: rgba(10,10,150,0.3);'>a</span></td><td><span style='font-size: 1.9500000000000002em; text-decoration:underline;  color: rgba(110,110,250,0.8'>mouse</span></td><td><span style='font-size: 1.2000000000000002em; color: rgba(10,10,150,0.3);'>.</span></td><td><span style='font-size: 1.2000000000000002em; color: rgba(10,10,150,0.3);'>[SEP]</span></td></tr><tr><th/><td style='font-size: 0.7em'>0.0</td><td style='font-size: 0.7em'>0.0</td><td style='font-size: 0.7em'>0.0</td><td style='font-size: 0.7em'>0.0</td><td style='font-size: 0.7em'>0.0</td><td style='font-size: 0.7em'>0.0</td><td style='font-size: 0.7em'>0.0</td><td style='font-size: 0.7em'>0.0</td><td style='font-size: 0.7em'>0.0</td><td style='font-size: 0.7em'>1.0</td><td style='font-size: 0.7em'>0.0</td><td style='font-size: 0.7em'>0.0</td></tr><tr><th>artery; Telecom; ##bey; sector; fourteen; coordinating; ##EC; era; balancing; Waterloo; terminology; provide; offense; Audio; entire; ##claim; auditorium; Oracle; Evaluation; exam</th><td><span style='font-size: 1.2000000000000002em; color: rgba(10,10,150,0.3);'>[CLS]</span></td><td><span style='font-size: 1.2000000000000002em; color: rgba(10,10,150,0.3);'>The</span></td><td><span style='font-size: 1.2000000000000002em; color: rgba(10,10,150,0.3);'>cat</span></td><td><span style='font-size: 1.2000000000000002em; color: rgba(10,10,150,0.3);'>from</span></td><td><span style='font-size: 1.2000000000000002em; color: rgba(10,10,150,0.3);'>the</span></td><td><span style='font-size: 1.2000000000000002em; color: rgba(10,10,150,0.3);'>neighbours</span></td><td><span style='font-size: 1.2000000000000002em; color: rgba(10,10,150,0.3);'>chase</span></td><td><span style='font-size: 1.2000000000000002em; color: rgba(10,10,150,0.3);'>##s</span></td><td><span style='font-size: 1.2000000000000002em; color: rgba(10,10,150,0.3);'>a</span></td><td><span style='font-size: 1.9500000000000002em; text-decoration:underline;  color: rgba(110,110,250,0.8'>mouse</span></td><td><span style='font-size: 1.2000000000000002em; color: rgba(10,10,150,0.3);'>.</span></td><td><span style='font-size: 1.2000000000000002em; color: rgba(10,10,150,0.3);'>[SEP]</span></td></tr><tr><th/><td style='font-size: 0.7em'>0.0</td><td style='font-size: 0.7em'>0.0</td><td style='font-size: 0.7em'>0.0</td><td style='font-size: 0.7em'>0.0</td><td style='font-size: 0.7em'>0.0</td><td style='font-size: 0.7em'>0.0</td><td style='font-size: 0.7em'>0.0</td><td style='font-size: 0.7em'>0.0</td><td style='font-size: 0.7em'>0.0</td><td style='font-size: 0.7em'>1.0</td><td style='font-size: 0.7em'>0.0</td><td style='font-size: 0.7em'>0.0</td></tr></table></div></div>"
      ],
      "text/plain": [
       "<IPython.core.display.HTML object>"
      ]
     },
     "metadata": {},
     "output_type": "display_data"
    }
   ],
   "source": [
    "html = html_for_sentences(full_df, mask_index, [\"layer\", \"sample\"])\n",
    "display(HTML(html))"
   ]
  },
  {
   "cell_type": "code",
   "execution_count": 171,
   "metadata": {},
   "outputs": [
    {
     "data": {
      "text/html": [
       "<div><div>sample: [PAD]</div><div style='padding-left:2em;'><table><tr><th>layer 1</th><td><span style='font-size: 1.4249999999999998em; color: rgba(40,40,180,0.44999999999999996);'>[CLS]</span></td><td><span style='font-size: 1.2525em; color: rgba(17,17,157,0.33499999999999996);'>The</span></td><td><span style='font-size: 1.7100000000000002em; color: rgba(78,78,218,0.64);'>cat</span></td><td><span style='font-size: 1.2675em; color: rgba(19,19,159,0.345);'>from</span></td><td><span style='font-size: 1.2075em; color: rgba(151,11,151,0.305);'>the</span></td><td><span style='font-size: 1.245em; color: rgba(16,16,156,0.32999999999999996);'>neighbours</span></td><td><span style='font-size: 1.3499999999999999em; color: rgba(30,30,170,0.4);'>chase</span></td><td><span style='font-size: 1.3125em; color: rgba(25,25,165,0.375);'>##s</span></td><td><span style='font-size: 1.4175em; color: rgba(38,38,178,0.44499999999999995);'>a</span></td><td><span style='font-size: 1.4325em; text-decoration:underline;  color: rgba(41,41,181,0.45499999999999996'>mouse</span></td><td><span style='font-size: 1.5em; color: rgba(50,50,190,0.5);'>.</span></td><td><span style='font-size: 1.9500000000000002em; color: rgba(110,110,250,0.8);'>[SEP]</span></td></tr><tr><th/><td style='font-size: 0.7em'>0.215</td><td style='font-size: 0.7em'>0.046</td><td style='font-size: 0.7em'>0.485</td><td style='font-size: 0.7em'>0.063</td><td style='font-size: 0.7em'>-0.006</td><td style='font-size: 0.7em'>0.039</td><td style='font-size: 0.7em'>0.142</td><td style='font-size: 0.7em'>0.109</td><td style='font-size: 0.7em'>0.208</td><td style='font-size: 0.7em'>0.221</td><td style='font-size: 0.7em'>0.283</td><td style='font-size: 0.7em'>0.712</td></tr><tr><th>layer 2</th><td><span style='font-size: 1.2974999999999999em; color: rgba(23,23,163,0.365);'>[CLS]</span></td><td><span style='font-size: 1.2600000000000002em; color: rgba(18,18,158,0.33999999999999997);'>The</span></td><td><span style='font-size: 1.4475000000000002em; color: rgba(43,43,183,0.46499999999999997);'>cat</span></td><td><span style='font-size: 1.2675em; color: rgba(19,19,159,0.345);'>from</span></td><td><span style='font-size: 1.215em; color: rgba(152,12,152,0.31);'>the</span></td><td><span style='font-size: 1.2000000000000002em; color: rgba(10,10,150,0.3);'>neighbours</span></td><td><span style='font-size: 1.2974999999999999em; color: rgba(23,23,163,0.365);'>chase</span></td><td><span style='font-size: 1.2374999999999998em; color: rgba(15,15,155,0.325);'>##s</span></td><td><span style='font-size: 1.335em; color: rgba(28,28,168,0.39);'>a</span></td><td><span style='font-size: 1.5750000000000002em; text-decoration:underline;  color: rgba(60,60,200,0.55'>mouse</span></td><td><span style='font-size: 1.3649999999999998em; color: rgba(32,32,172,0.41);'>.</span></td><td><span style='font-size: 1.9500000000000002em; color: rgba(110,110,250,0.8);'>[SEP]</span></td></tr><tr><th/><td style='font-size: 0.7em'>0.108</td><td style='font-size: 0.7em'>0.069</td><td style='font-size: 0.7em'>0.268</td><td style='font-size: 0.7em'>0.071</td><td style='font-size: 0.7em'>-0.014</td><td style='font-size: 0.7em'>0.001</td><td style='font-size: 0.7em'>0.105</td><td style='font-size: 0.7em'>0.041</td><td style='font-size: 0.7em'>0.147</td><td style='font-size: 0.7em'>0.411</td><td style='font-size: 0.7em'>0.179</td><td style='font-size: 0.7em'>0.819</td></tr><tr><th>layer 3</th><td><span style='font-size: 1.245em; color: rgba(16,16,156,0.32999999999999996);'>[CLS]</span></td><td><span style='font-size: 1.23em; color: rgba(14,14,154,0.32);'>The</span></td><td><span style='font-size: 1.5524999999999998em; color: rgba(57,57,197,0.5349999999999999);'>cat</span></td><td><span style='font-size: 1.2974999999999999em; color: rgba(23,23,163,0.365);'>from</span></td><td><span style='font-size: 1.2675em; color: rgba(19,19,159,0.345);'>the</span></td><td><span style='font-size: 1.23em; color: rgba(14,14,154,0.32);'>neighbours</span></td><td><span style='font-size: 1.6950000000000003em; color: rgba(76,76,216,0.63);'>chase</span></td><td><span style='font-size: 1.29em; color: rgba(22,22,162,0.36);'>##s</span></td><td><span style='font-size: 1.545em; color: rgba(56,56,196,0.53);'>a</span></td><td><span style='font-size: 1.8675000000000002em; text-decoration:underline;  color: rgba(99,99,239,0.745'>mouse</span></td><td><span style='font-size: 1.245em; color: rgba(16,16,156,0.32999999999999996);'>.</span></td><td><span style='font-size: 1.9500000000000002em; color: rgba(110,110,250,0.8);'>[SEP]</span></td></tr><tr><th/><td style='font-size: 0.7em'>0.039</td><td style='font-size: 0.7em'>0.026</td><td style='font-size: 0.7em'>0.285</td><td style='font-size: 0.7em'>0.079</td><td style='font-size: 0.7em'>0.052</td><td style='font-size: 0.7em'>0.024</td><td style='font-size: 0.7em'>0.401</td><td style='font-size: 0.7em'>0.075</td><td style='font-size: 0.7em'>0.279</td><td style='font-size: 0.7em'>0.541</td><td style='font-size: 0.7em'>0.037</td><td style='font-size: 0.7em'>0.607</td></tr><tr><th>layer 4</th><td><span style='font-size: 1.2825em; color: rgba(21,21,161,0.355);'>[CLS]</span></td><td><span style='font-size: 1.2600000000000002em; color: rgba(18,18,158,0.33999999999999997);'>The</span></td><td><span style='font-size: 1.62em; color: rgba(66,66,206,0.5800000000000001);'>cat</span></td><td><span style='font-size: 1.2075em; color: rgba(151,11,151,0.305);'>from</span></td><td><span style='font-size: 1.23em; color: rgba(14,14,154,0.32);'>the</span></td><td><span style='font-size: 1.23em; color: rgba(14,14,154,0.32);'>neighbours</span></td><td><span style='font-size: 1.455em; color: rgba(44,44,184,0.47);'>chase</span></td><td><span style='font-size: 1.2750000000000001em; color: rgba(20,20,160,0.35);'>##s</span></td><td><span style='font-size: 1.29em; color: rgba(22,22,162,0.36);'>a</span></td><td><span style='font-size: 1.9500000000000002em; text-decoration:underline;  color: rgba(110,110,250,0.8'>mouse</span></td><td><span style='font-size: 1.215em; color: rgba(12,12,152,0.31);'>.</span></td><td><span style='font-size: 1.4925000000000002em; color: rgba(49,49,189,0.495);'>[SEP]</span></td></tr><tr><th/><td style='font-size: 0.7em'>0.086</td><td style='font-size: 0.7em'>0.063</td><td style='font-size: 0.7em'>0.437</td><td style='font-size: 0.7em'>-0.006</td><td style='font-size: 0.7em'>0.034</td><td style='font-size: 0.7em'>0.032</td><td style='font-size: 0.7em'>0.266</td><td style='font-size: 0.7em'>0.077</td><td style='font-size: 0.7em'>0.091</td><td style='font-size: 0.7em'>0.785</td><td style='font-size: 0.7em'>0.012</td><td style='font-size: 0.7em'>0.305</td></tr><tr><th>layer 5</th><td><span style='font-size: 1.2825em; color: rgba(21,21,161,0.355);'>[CLS]</span></td><td><span style='font-size: 1.2675em; color: rgba(19,19,159,0.345);'>The</span></td><td><span style='font-size: 1.6500000000000001em; color: rgba(70,70,210,0.6);'>cat</span></td><td><span style='font-size: 1.2225em; color: rgba(13,13,153,0.315);'>from</span></td><td><span style='font-size: 1.215em; color: rgba(12,12,152,0.31);'>the</span></td><td><span style='font-size: 1.2075em; color: rgba(11,11,151,0.305);'>neighbours</span></td><td><span style='font-size: 1.2750000000000001em; color: rgba(20,20,160,0.35);'>chase</span></td><td><span style='font-size: 1.23em; color: rgba(14,14,154,0.32);'>##s</span></td><td><span style='font-size: 1.245em; color: rgba(16,16,156,0.32999999999999996);'>a</span></td><td><span style='font-size: 1.9500000000000002em; text-decoration:underline;  color: rgba(110,110,250,0.8'>mouse</span></td><td><span style='font-size: 1.2000000000000002em; color: rgba(10,10,150,0.3);'>.</span></td><td><span style='font-size: 1.3499999999999999em; color: rgba(170,30,170,0.4);'>[SEP]</span></td></tr><tr><th/><td style='font-size: 0.7em'>0.094</td><td style='font-size: 0.7em'>0.073</td><td style='font-size: 0.7em'>0.498</td><td style='font-size: 0.7em'>0.024</td><td style='font-size: 0.7em'>0.013</td><td style='font-size: 0.7em'>0.009</td><td style='font-size: 0.7em'>0.081</td><td style='font-size: 0.7em'>0.035</td><td style='font-size: 0.7em'>0.054</td><td style='font-size: 0.7em'>0.835</td><td style='font-size: 0.7em'>0.002</td><td style='font-size: 0.7em'>-0.169</td></tr><tr><th>layer 6</th><td><span style='font-size: 1.2000000000000002em; color: rgba(10,10,150,0.3);'>[CLS]</span></td><td><span style='font-size: 1.2000000000000002em; color: rgba(10,10,150,0.3);'>The</span></td><td><span style='font-size: 1.2000000000000002em; color: rgba(10,10,150,0.3);'>cat</span></td><td><span style='font-size: 1.2000000000000002em; color: rgba(10,10,150,0.3);'>from</span></td><td><span style='font-size: 1.2000000000000002em; color: rgba(10,10,150,0.3);'>the</span></td><td><span style='font-size: 1.2000000000000002em; color: rgba(10,10,150,0.3);'>neighbours</span></td><td><span style='font-size: 1.2000000000000002em; color: rgba(10,10,150,0.3);'>chase</span></td><td><span style='font-size: 1.2000000000000002em; color: rgba(10,10,150,0.3);'>##s</span></td><td><span style='font-size: 1.2000000000000002em; color: rgba(10,10,150,0.3);'>a</span></td><td><span style='font-size: 1.9500000000000002em; text-decoration:underline;  color: rgba(110,110,250,0.8'>mouse</span></td><td><span style='font-size: 1.2000000000000002em; color: rgba(10,10,150,0.3);'>.</span></td><td><span style='font-size: 1.2000000000000002em; color: rgba(10,10,150,0.3);'>[SEP]</span></td></tr><tr><th/><td style='font-size: 0.7em'>0.0</td><td style='font-size: 0.7em'>0.0</td><td style='font-size: 0.7em'>0.0</td><td style='font-size: 0.7em'>0.0</td><td style='font-size: 0.7em'>0.0</td><td style='font-size: 0.7em'>0.0</td><td style='font-size: 0.7em'>0.0</td><td style='font-size: 0.7em'>0.0</td><td style='font-size: 0.7em'>0.0</td><td style='font-size: 0.7em'>1.0</td><td style='font-size: 0.7em'>0.0</td><td style='font-size: 0.7em'>0.0</td></tr></table></div><div>sample: [UNK]</div><div style='padding-left:2em;'><table><tr><th>layer 1</th><td><span style='font-size: 1.3575em; color: rgba(31,31,171,0.40499999999999997);'>[CLS]</span></td><td><span style='font-size: 1.23em; color: rgba(14,14,154,0.32);'>The</span></td><td><span style='font-size: 1.455em; color: rgba(44,44,184,0.47);'>cat</span></td><td><span style='font-size: 1.23em; color: rgba(14,14,154,0.32);'>from</span></td><td><span style='font-size: 1.2000000000000002em; color: rgba(150,10,150,0.3);'>the</span></td><td><span style='font-size: 1.2600000000000002em; color: rgba(18,18,158,0.33999999999999997);'>neighbours</span></td><td><span style='font-size: 1.3575em; color: rgba(31,31,171,0.40499999999999997);'>chase</span></td><td><span style='font-size: 1.2750000000000001em; color: rgba(20,20,160,0.35);'>##s</span></td><td><span style='font-size: 1.4025em; color: rgba(37,37,177,0.435);'>a</span></td><td><span style='font-size: 1.5825em; text-decoration:underline;  color: rgba(61,61,201,0.5549999999999999'>mouse</span></td><td><span style='font-size: 1.3499999999999999em; color: rgba(30,30,170,0.4);'>.</span></td><td><span style='font-size: 1.9500000000000002em; color: rgba(110,110,250,0.8);'>[SEP]</span></td></tr><tr><th/><td style='font-size: 0.7em'>0.169</td><td style='font-size: 0.7em'>0.031</td><td style='font-size: 0.7em'>0.269</td><td style='font-size: 0.7em'>0.031</td><td style='font-size: 0.7em'>-0.002</td><td style='font-size: 0.7em'>0.062</td><td style='font-size: 0.7em'>0.169</td><td style='font-size: 0.7em'>0.083</td><td style='font-size: 0.7em'>0.21</td><td style='font-size: 0.7em'>0.401</td><td style='font-size: 0.7em'>0.16</td><td style='font-size: 0.7em'>0.792</td></tr><tr><th>layer 2</th><td><span style='font-size: 1.3575em; color: rgba(31,31,171,0.40499999999999997);'>[CLS]</span></td><td><span style='font-size: 1.2075em; color: rgba(151,11,151,0.305);'>The</span></td><td><span style='font-size: 1.4325em; color: rgba(41,41,181,0.45499999999999996);'>cat</span></td><td><span style='font-size: 1.2225em; color: rgba(13,13,153,0.315);'>from</span></td><td><span style='font-size: 1.2075em; color: rgba(151,11,151,0.305);'>the</span></td><td><span style='font-size: 1.2075em; color: rgba(11,11,151,0.305);'>neighbours</span></td><td><span style='font-size: 1.3649999999999998em; color: rgba(32,32,172,0.41);'>chase</span></td><td><span style='font-size: 1.2675em; color: rgba(19,19,159,0.345);'>##s</span></td><td><span style='font-size: 1.4025em; color: rgba(37,37,177,0.435);'>a</span></td><td><span style='font-size: 1.6724999999999999em; text-decoration:underline;  color: rgba(73,73,213,0.615'>mouse</span></td><td><span style='font-size: 1.3649999999999998em; color: rgba(32,32,172,0.41);'>.</span></td><td><span style='font-size: 1.9500000000000002em; color: rgba(110,110,250,0.8);'>[SEP]</span></td></tr><tr><th/><td style='font-size: 0.7em'>0.157</td><td style='font-size: 0.7em'>-0.008</td><td style='font-size: 0.7em'>0.235</td><td style='font-size: 0.7em'>0.023</td><td style='font-size: 0.7em'>-0.004</td><td style='font-size: 0.7em'>0.01</td><td style='font-size: 0.7em'>0.168</td><td style='font-size: 0.7em'>0.066</td><td style='font-size: 0.7em'>0.209</td><td style='font-size: 0.7em'>0.48</td><td style='font-size: 0.7em'>0.166</td><td style='font-size: 0.7em'>0.765</td></tr><tr><th>layer 3</th><td><span style='font-size: 1.2974999999999999em; color: rgba(23,23,163,0.365);'>[CLS]</span></td><td><span style='font-size: 1.2974999999999999em; color: rgba(23,23,163,0.365);'>The</span></td><td><span style='font-size: 1.5750000000000002em; color: rgba(60,60,200,0.55);'>cat</span></td><td><span style='font-size: 1.2675em; color: rgba(19,19,159,0.345);'>from</span></td><td><span style='font-size: 1.2600000000000002em; color: rgba(18,18,158,0.33999999999999997);'>the</span></td><td><span style='font-size: 1.2075em; color: rgba(11,11,151,0.305);'>neighbours</span></td><td><span style='font-size: 1.6275em; color: rgba(66,66,206,0.585);'>chase</span></td><td><span style='font-size: 1.2750000000000001em; color: rgba(20,20,160,0.35);'>##s</span></td><td><span style='font-size: 1.5524999999999998em; color: rgba(57,57,197,0.5349999999999999);'>a</span></td><td><span style='font-size: 1.9500000000000002em; text-decoration:underline;  color: rgba(110,110,250,0.8'>mouse</span></td><td><span style='font-size: 1.2974999999999999em; color: rgba(23,23,163,0.365);'>.</span></td><td><span style='font-size: 1.665em; color: rgba(72,72,212,0.61);'>[SEP]</span></td></tr><tr><th/><td style='font-size: 0.7em'>0.086</td><td style='font-size: 0.7em'>0.089</td><td style='font-size: 0.7em'>0.334</td><td style='font-size: 0.7em'>0.063</td><td style='font-size: 0.7em'>0.056</td><td style='font-size: 0.7em'>0.007</td><td style='font-size: 0.7em'>0.378</td><td style='font-size: 0.7em'>0.066</td><td style='font-size: 0.7em'>0.311</td><td style='font-size: 0.7em'>0.668</td><td style='font-size: 0.7em'>0.085</td><td style='font-size: 0.7em'>0.411</td></tr><tr><th>layer 4</th><td><span style='font-size: 1.2825em; color: rgba(21,21,161,0.355);'>[CLS]</span></td><td><span style='font-size: 1.245em; color: rgba(16,16,156,0.32999999999999996);'>The</span></td><td><span style='font-size: 1.59em; color: rgba(62,62,202,0.56);'>cat</span></td><td><span style='font-size: 1.2225em; color: rgba(153,13,153,0.315);'>from</span></td><td><span style='font-size: 1.2075em; color: rgba(11,11,151,0.305);'>the</span></td><td><span style='font-size: 1.2000000000000002em; color: rgba(150,10,150,0.3);'>neighbours</span></td><td><span style='font-size: 1.41em; color: rgba(38,38,178,0.44);'>chase</span></td><td><span style='font-size: 1.2525em; color: rgba(17,17,157,0.33499999999999996);'>##s</span></td><td><span style='font-size: 1.2825em; color: rgba(21,21,161,0.355);'>a</span></td><td><span style='font-size: 1.9500000000000002em; text-decoration:underline;  color: rgba(110,110,250,0.8'>mouse</span></td><td><span style='font-size: 1.2225em; color: rgba(13,13,153,0.315);'>.</span></td><td><span style='font-size: 1.3199999999999998em; color: rgba(26,26,166,0.38);'>[SEP]</span></td></tr><tr><th/><td style='font-size: 0.7em'>0.09</td><td style='font-size: 0.7em'>0.049</td><td style='font-size: 0.7em'>0.439</td><td style='font-size: 0.7em'>-0.029</td><td style='font-size: 0.7em'>0.008</td><td style='font-size: 0.7em'>-0.001</td><td style='font-size: 0.7em'>0.239</td><td style='font-size: 0.7em'>0.058</td><td style='font-size: 0.7em'>0.091</td><td style='font-size: 0.7em'>0.842</td><td style='font-size: 0.7em'>0.023</td><td style='font-size: 0.7em'>0.133</td></tr><tr><th>layer 5</th><td><span style='font-size: 1.2600000000000002em; color: rgba(18,18,158,0.33999999999999997);'>[CLS]</span></td><td><span style='font-size: 1.245em; color: rgba(16,16,156,0.32999999999999996);'>The</span></td><td><span style='font-size: 1.5374999999999999em; color: rgba(55,55,195,0.525);'>cat</span></td><td><span style='font-size: 1.215em; color: rgba(12,12,152,0.31);'>from</span></td><td><span style='font-size: 1.2075em; color: rgba(11,11,151,0.305);'>the</span></td><td><span style='font-size: 1.2075em; color: rgba(11,11,151,0.305);'>neighbours</span></td><td><span style='font-size: 1.2675em; color: rgba(19,19,159,0.345);'>chase</span></td><td><span style='font-size: 1.2374999999999998em; color: rgba(15,15,155,0.325);'>##s</span></td><td><span style='font-size: 1.2525em; color: rgba(17,17,157,0.33499999999999996);'>a</span></td><td><span style='font-size: 1.9500000000000002em; text-decoration:underline;  color: rgba(110,110,250,0.8'>mouse</span></td><td><span style='font-size: 1.2000000000000002em; color: rgba(150,10,150,0.3);'>.</span></td><td><span style='font-size: 1.3050000000000002em; color: rgba(164,24,164,0.37);'>[SEP]</span></td></tr><tr><th/><td style='font-size: 0.7em'>0.074</td><td style='font-size: 0.7em'>0.055</td><td style='font-size: 0.7em'>0.403</td><td style='font-size: 0.7em'>0.016</td><td style='font-size: 0.7em'>0.013</td><td style='font-size: 0.7em'>0.007</td><td style='font-size: 0.7em'>0.084</td><td style='font-size: 0.7em'>0.042</td><td style='font-size: 0.7em'>0.059</td><td style='font-size: 0.7em'>0.895</td><td style='font-size: 0.7em'>-0.0</td><td style='font-size: 0.7em'>-0.127</td></tr><tr><th>layer 6</th><td><span style='font-size: 1.2000000000000002em; color: rgba(10,10,150,0.3);'>[CLS]</span></td><td><span style='font-size: 1.2000000000000002em; color: rgba(10,10,150,0.3);'>The</span></td><td><span style='font-size: 1.2000000000000002em; color: rgba(10,10,150,0.3);'>cat</span></td><td><span style='font-size: 1.2000000000000002em; color: rgba(10,10,150,0.3);'>from</span></td><td><span style='font-size: 1.2000000000000002em; color: rgba(10,10,150,0.3);'>the</span></td><td><span style='font-size: 1.2000000000000002em; color: rgba(10,10,150,0.3);'>neighbours</span></td><td><span style='font-size: 1.2000000000000002em; color: rgba(10,10,150,0.3);'>chase</span></td><td><span style='font-size: 1.2000000000000002em; color: rgba(10,10,150,0.3);'>##s</span></td><td><span style='font-size: 1.2000000000000002em; color: rgba(10,10,150,0.3);'>a</span></td><td><span style='font-size: 1.9500000000000002em; text-decoration:underline;  color: rgba(110,110,250,0.8'>mouse</span></td><td><span style='font-size: 1.2000000000000002em; color: rgba(10,10,150,0.3);'>.</span></td><td><span style='font-size: 1.2000000000000002em; color: rgba(10,10,150,0.3);'>[SEP]</span></td></tr><tr><th/><td style='font-size: 0.7em'>0.0</td><td style='font-size: 0.7em'>0.0</td><td style='font-size: 0.7em'>0.0</td><td style='font-size: 0.7em'>0.0</td><td style='font-size: 0.7em'>0.0</td><td style='font-size: 0.7em'>0.0</td><td style='font-size: 0.7em'>0.0</td><td style='font-size: 0.7em'>0.0</td><td style='font-size: 0.7em'>0.0</td><td style='font-size: 0.7em'>1.0</td><td style='font-size: 0.7em'>0.0</td><td style='font-size: 0.7em'>0.0</td></tr></table></div><div>sample: artery; Telecom; ##bey; sector; fourteen; coordinating; ##EC; era; balancing; Waterloo; terminology; provide; offense; Audio; entire; ##claim; auditorium; Oracle; Evaluation; exam</div><div style='padding-left:2em;'><table><tr><th>layer 1</th><td><span style='font-size: 1.545em; color: rgba(56,56,196,0.53);'>[CLS]</span></td><td><span style='font-size: 1.3425em; color: rgba(29,29,169,0.395);'>The</span></td><td><span style='font-size: 1.5975em; color: rgba(63,63,203,0.565);'>cat</span></td><td><span style='font-size: 1.2374999999999998em; color: rgba(15,15,155,0.325);'>from</span></td><td><span style='font-size: 1.2374999999999998em; color: rgba(155,15,155,0.325);'>the</span></td><td><span style='font-size: 1.29em; color: rgba(22,22,162,0.36);'>neighbours</span></td><td><span style='font-size: 1.6425em; color: rgba(69,69,209,0.595);'>chase</span></td><td><span style='font-size: 1.3499999999999999em; color: rgba(30,30,170,0.4);'>##s</span></td><td><span style='font-size: 1.4325em; color: rgba(41,41,181,0.45499999999999996);'>a</span></td><td><span style='font-size: 1.53em; text-decoration:underline;  color: rgba(54,54,194,0.52'>mouse</span></td><td><span style='font-size: 1.3875000000000002em; color: rgba(35,35,175,0.425);'>.</span></td><td><span style='font-size: 1.9500000000000002em; color: rgba(110,110,250,0.8);'>[SEP]</span></td></tr><tr><th/><td style='font-size: 0.7em'>0.276</td><td style='font-size: 0.7em'>0.115</td><td style='font-size: 0.7em'>0.315</td><td style='font-size: 0.7em'>0.031</td><td style='font-size: 0.7em'>-0.028</td><td style='font-size: 0.7em'>0.075</td><td style='font-size: 0.7em'>0.352</td><td style='font-size: 0.7em'>0.117</td><td style='font-size: 0.7em'>0.187</td><td style='font-size: 0.7em'>0.264</td><td style='font-size: 0.7em'>0.15</td><td style='font-size: 0.7em'>0.599</td></tr><tr><th>layer 2</th><td><span style='font-size: 1.3199999999999998em; color: rgba(26,26,166,0.38);'>[CLS]</span></td><td><span style='font-size: 1.2600000000000002em; color: rgba(18,18,158,0.33999999999999997);'>The</span></td><td><span style='font-size: 1.47em; color: rgba(46,46,186,0.48);'>cat</span></td><td><span style='font-size: 1.215em; color: rgba(12,12,152,0.31);'>from</span></td><td><span style='font-size: 1.23em; color: rgba(154,14,154,0.32);'>the</span></td><td><span style='font-size: 1.2000000000000002em; color: rgba(10,10,150,0.3);'>neighbours</span></td><td><span style='font-size: 1.38em; color: rgba(34,34,174,0.42);'>chase</span></td><td><span style='font-size: 1.245em; color: rgba(16,16,156,0.32999999999999996);'>##s</span></td><td><span style='font-size: 1.395em; color: rgba(36,36,176,0.43);'>a</span></td><td><span style='font-size: 1.5750000000000002em; text-decoration:underline;  color: rgba(60,60,200,0.55'>mouse</span></td><td><span style='font-size: 1.3425em; color: rgba(29,29,169,0.395);'>.</span></td><td><span style='font-size: 1.9500000000000002em; color: rgba(110,110,250,0.8);'>[SEP]</span></td></tr><tr><th/><td style='font-size: 0.7em'>0.117</td><td style='font-size: 0.7em'>0.056</td><td style='font-size: 0.7em'>0.267</td><td style='font-size: 0.7em'>0.015</td><td style='font-size: 0.7em'>-0.029</td><td style='font-size: 0.7em'>0.002</td><td style='font-size: 0.7em'>0.176</td><td style='font-size: 0.7em'>0.047</td><td style='font-size: 0.7em'>0.19</td><td style='font-size: 0.7em'>0.366</td><td style='font-size: 0.7em'>0.143</td><td style='font-size: 0.7em'>0.737</td></tr><tr><th>layer 3</th><td><span style='font-size: 1.2525em; color: rgba(17,17,157,0.33499999999999996);'>[CLS]</span></td><td><span style='font-size: 1.2374999999999998em; color: rgba(15,15,155,0.325);'>The</span></td><td><span style='font-size: 1.59em; color: rgba(62,62,202,0.56);'>cat</span></td><td><span style='font-size: 1.23em; color: rgba(14,14,154,0.32);'>from</span></td><td><span style='font-size: 1.2225em; color: rgba(13,13,153,0.315);'>the</span></td><td><span style='font-size: 1.2225em; color: rgba(153,13,153,0.315);'>neighbours</span></td><td><span style='font-size: 1.59em; color: rgba(62,62,202,0.56);'>chase</span></td><td><span style='font-size: 1.2374999999999998em; color: rgba(15,15,155,0.325);'>##s</span></td><td><span style='font-size: 1.47em; color: rgba(46,46,186,0.48);'>a</span></td><td><span style='font-size: 1.665em; text-decoration:underline;  color: rgba(72,72,212,0.61'>mouse</span></td><td><span style='font-size: 1.215em; color: rgba(12,12,152,0.31);'>.</span></td><td><span style='font-size: 1.9500000000000002em; color: rgba(110,110,250,0.8);'>[SEP]</span></td></tr><tr><th/><td style='font-size: 0.7em'>0.044</td><td style='font-size: 0.7em'>0.031</td><td style='font-size: 0.7em'>0.343</td><td style='font-size: 0.7em'>0.028</td><td style='font-size: 0.7em'>0.018</td><td style='font-size: 0.7em'>-0.019</td><td style='font-size: 0.7em'>0.341</td><td style='font-size: 0.7em'>0.034</td><td style='font-size: 0.7em'>0.238</td><td style='font-size: 0.7em'>0.406</td><td style='font-size: 0.7em'>0.016</td><td style='font-size: 0.7em'>0.655</td></tr><tr><th>layer 4</th><td><span style='font-size: 1.2750000000000001em; color: rgba(20,20,160,0.35);'>[CLS]</span></td><td><span style='font-size: 1.245em; color: rgba(16,16,156,0.32999999999999996);'>The</span></td><td><span style='font-size: 1.8525em; color: rgba(97,97,237,0.735);'>cat</span></td><td><span style='font-size: 1.2525em; color: rgba(157,17,157,0.33499999999999996);'>from</span></td><td><span style='font-size: 1.215em; color: rgba(12,12,152,0.31);'>the</span></td><td><span style='font-size: 1.2225em; color: rgba(13,13,153,0.315);'>neighbours</span></td><td><span style='font-size: 1.4849999999999999em; color: rgba(48,48,188,0.49);'>chase</span></td><td><span style='font-size: 1.2750000000000001em; color: rgba(20,20,160,0.35);'>##s</span></td><td><span style='font-size: 1.3199999999999998em; color: rgba(26,26,166,0.38);'>a</span></td><td><span style='font-size: 1.9500000000000002em; text-decoration:underline;  color: rgba(110,110,250,0.8'>mouse</span></td><td><span style='font-size: 1.2000000000000002em; color: rgba(10,10,150,0.3);'>.</span></td><td><span style='font-size: 1.47em; color: rgba(46,46,186,0.48);'>[SEP]</span></td></tr><tr><th/><td style='font-size: 0.7em'>0.064</td><td style='font-size: 0.7em'>0.043</td><td style='font-size: 0.7em'>0.573</td><td style='font-size: 0.7em'>-0.048</td><td style='font-size: 0.7em'>0.013</td><td style='font-size: 0.7em'>0.023</td><td style='font-size: 0.7em'>0.251</td><td style='font-size: 0.7em'>0.066</td><td style='font-size: 0.7em'>0.109</td><td style='font-size: 0.7em'>0.662</td><td style='font-size: 0.7em'>0.002</td><td style='font-size: 0.7em'>0.237</td></tr><tr><th>layer 5</th><td><span style='font-size: 1.2600000000000002em; color: rgba(18,18,158,0.33999999999999997);'>[CLS]</span></td><td><span style='font-size: 1.2525em; color: rgba(17,17,157,0.33499999999999996);'>The</span></td><td><span style='font-size: 1.6425em; color: rgba(69,69,209,0.595);'>cat</span></td><td><span style='font-size: 1.215em; color: rgba(12,12,152,0.31);'>from</span></td><td><span style='font-size: 1.2000000000000002em; color: rgba(10,10,150,0.3);'>the</span></td><td><span style='font-size: 1.2075em; color: rgba(151,11,151,0.305);'>neighbours</span></td><td><span style='font-size: 1.2825em; color: rgba(21,21,161,0.355);'>chase</span></td><td><span style='font-size: 1.2374999999999998em; color: rgba(15,15,155,0.325);'>##s</span></td><td><span style='font-size: 1.2525em; color: rgba(17,17,157,0.33499999999999996);'>a</span></td><td><span style='font-size: 1.9500000000000002em; text-decoration:underline;  color: rgba(110,110,250,0.8'>mouse</span></td><td><span style='font-size: 1.2000000000000002em; color: rgba(10,10,150,0.3);'>.</span></td><td><span style='font-size: 1.3199999999999998em; color: rgba(166,26,166,0.38);'>[SEP]</span></td></tr><tr><th/><td style='font-size: 0.7em'>0.069</td><td style='font-size: 0.7em'>0.054</td><td style='font-size: 0.7em'>0.486</td><td style='font-size: 0.7em'>0.013</td><td style='font-size: 0.7em'>0.003</td><td style='font-size: 0.7em'>-0.004</td><td style='font-size: 0.7em'>0.09</td><td style='font-size: 0.7em'>0.042</td><td style='font-size: 0.7em'>0.061</td><td style='font-size: 0.7em'>0.828</td><td style='font-size: 0.7em'>0.003</td><td style='font-size: 0.7em'>-0.136</td></tr><tr><th>layer 6</th><td><span style='font-size: 1.2000000000000002em; color: rgba(10,10,150,0.3);'>[CLS]</span></td><td><span style='font-size: 1.2000000000000002em; color: rgba(10,10,150,0.3);'>The</span></td><td><span style='font-size: 1.2000000000000002em; color: rgba(10,10,150,0.3);'>cat</span></td><td><span style='font-size: 1.2000000000000002em; color: rgba(10,10,150,0.3);'>from</span></td><td><span style='font-size: 1.2000000000000002em; color: rgba(10,10,150,0.3);'>the</span></td><td><span style='font-size: 1.2000000000000002em; color: rgba(10,10,150,0.3);'>neighbours</span></td><td><span style='font-size: 1.2000000000000002em; color: rgba(10,10,150,0.3);'>chase</span></td><td><span style='font-size: 1.2000000000000002em; color: rgba(10,10,150,0.3);'>##s</span></td><td><span style='font-size: 1.2000000000000002em; color: rgba(10,10,150,0.3);'>a</span></td><td><span style='font-size: 1.9500000000000002em; text-decoration:underline;  color: rgba(110,110,250,0.8'>mouse</span></td><td><span style='font-size: 1.2000000000000002em; color: rgba(10,10,150,0.3);'>.</span></td><td><span style='font-size: 1.2000000000000002em; color: rgba(10,10,150,0.3);'>[SEP]</span></td></tr><tr><th/><td style='font-size: 0.7em'>0.0</td><td style='font-size: 0.7em'>0.0</td><td style='font-size: 0.7em'>0.0</td><td style='font-size: 0.7em'>0.0</td><td style='font-size: 0.7em'>0.0</td><td style='font-size: 0.7em'>0.0</td><td style='font-size: 0.7em'>0.0</td><td style='font-size: 0.7em'>0.0</td><td style='font-size: 0.7em'>0.0</td><td style='font-size: 0.7em'>1.0</td><td style='font-size: 0.7em'>0.0</td><td style='font-size: 0.7em'>0.0</td></tr></table></div></div>"
      ],
      "text/plain": [
       "<IPython.core.display.HTML object>"
      ]
     },
     "metadata": {},
     "output_type": "display_data"
    }
   ],
   "source": [
    "html = html_for_sentences(full_df, mask_index, [\"sample\", \"layer\"])\n",
    "display(HTML(html))"
   ]
  }
 ],
 "metadata": {
  "kernelspec": {
   "display_name": "Python 3 (ipykernel)",
   "language": "python",
   "name": "python3"
  },
  "language_info": {
   "codemirror_mode": {
    "name": "ipython",
    "version": 3
   },
   "file_extension": ".py",
   "mimetype": "text/x-python",
   "name": "python",
   "nbconvert_exporter": "python",
   "pygments_lexer": "ipython3",
   "version": "3.8.12"
  }
 },
 "nbformat": 4,
 "nbformat_minor": 4
}
