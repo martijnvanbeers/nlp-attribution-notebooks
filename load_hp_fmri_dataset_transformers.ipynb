{
 "cells": [
  {
   "cell_type": "markdown",
   "metadata": {
    "id": "FhUl2kx7x6Ye"
   },
   "source": [
    "To run this colab, you firs need to upload the harry potter dataset into your google drive."
   ]
  },
  {
   "cell_type": "markdown",
   "metadata": {},
   "source": [
    "# Preparation"
   ]
  },
  {
   "cell_type": "code",
   "execution_count": null,
   "metadata": {},
   "outputs": [],
   "source": [
    "from google.colab import drive\n",
    "from google.colab import files\n",
    "import numpy as np\n",
    "from scipy.stats import zscore\n",
    "from scipy import stats\n",
    "\n",
    "import nltk\n",
    "nltk.download('punkt')\n",
    "\n",
    "import torch\n",
    "import transformers\n",
    "#from transformers import AutoModelForSequenceClassification\n",
    "from transformers import AutoModel, AutoModelForMaskedLM\n",
    "from transformers import AutoTokenizer\n",
    "#from tokenizers import Regex, Sequence\n",
    "#from tokenizers.pre_tokenizers import Split\n",
    "\n",
    "\n",
    "from IPython.display import display, Markdown\n",
    "import matplotlib.pyplot as plt\n",
    "import seaborn"
   ]
  },
  {
   "cell_type": "code",
   "execution_count": null,
   "metadata": {
    "colab": {
     "base_uri": "https://localhost:8080/",
     "height": 262,
     "referenced_widgets": [
      "33b54f4a36aa40bc9fa3e6d6d5a5cadb",
      "d1d8317568b542bb97481bfd064b2805",
      "01dd3b0d971d41c790017d0c84565e97",
      "349332bcfddd452aaaaacc51f0372633",
      "8c0691f470d14d658405242437ba7bf8",
      "f7658f5de24d467e9eef7ea2b6f2d794",
      "fe45b5818c3049bf9d51c8a80604769f",
      "cca888d1758c4865ae04062217a45142",
      "a084e04742d442e58feb754e720a64b1",
      "9c7e54adeb354becbe7e39d23c8f27e0",
      "e6719348726a45c1b9042f9f898804f4",
      "853cc914f299426c8481b3b5f0738abc",
      "eda51b89bf264b61ae74015667581b92",
      "f3f8b60e2d0f46c1a8efe084b8f67db1",
      "6abe26605aa44b6691e96f7a047783c4",
      "243cd6612bfc43ffbf5f31a8982aa77a",
      "8f16e3148c4340ea94fd10c0a92a08be",
      "a874b055a01c452196d4789f83731228",
      "92bc74aadded4c33b0a0562ed35c737d",
      "b4bb3f320b08469f980ebe7276728917",
      "a12c93c8358c44d7907ec591b5d60f9d",
      "acde190699334f3e9bbadeacda4f422d",
      "5152d647392041dead440bae4ab70433",
      "e1339d74cf584c61a12e6dc31381b52c",
      "3dc92395267041b7a83ffe17b2ab2ab6",
      "27536f8a15f0425fa006cb7bbab00587",
      "a173ac83ce254d149f8947d0191eeccf",
      "c6b9db49b4ff4840853ce91ce5defcc3",
      "79681574a14c47a989b05f81018610a7",
      "c58ced1b09164544b0aa67a5dfa77a46",
      "05f27c0855d84c33ae63eeb4cc48a4ad",
      "3c09d21d0ce34eeb897f80e23d6aaebb",
      "5cca5cec20544d8dbd6f03c9eedca7f9",
      "77841d0ee2df459bb68cae3722adf15a",
      "e02d05e23b8245fdaf9fade091ec4f0f",
      "e80f0dd069784f5980c570a7521b4ffd",
      "838df9dc081847e2a262aa50f0976343",
      "d6fe727c4bde4dbb91d93aeb8bf689a6",
      "8f47e3ef248640d9bf0e7c5150f96517",
      "0dcbe41f329f4d5b84825e3af7506480"
     ]
    },
    "id": "HGZg9obvtHvS",
    "outputId": "0749cf10-7df0-468e-fa2b-ccb0f7c8f46a"
   },
   "outputs": [],
   "source": [
    "pretrained_weights = 'gpt2'\n",
    "#pretrained_weights = 'distilbert-base-uncased'\n",
    "model = AutoModel.from_pretrained(pretrained_weights,\n",
    "                                  output_hidden_states=True,\n",
    "                                  output_attentions=True)\n",
    "#nopunct = Split(Regex(\"\\p{Punctuation}\"), \"removed\")\n",
    "if pretrained_weights in ['gpt2', 'gpt2-medium', 'gpt2-large']:\n",
    "    tokenizer = AutoTokenizer.from_pretrained(pretrained_weights, use_fast=True, add_prefix_space=True)\n",
    "    tokenizer.pad_token = tokenizer.eos_token\n",
    "else:\n",
    "    tokenizer = AutoTokenizer.from_pretrained(pretrained_weights, use_fast=True)\n",
    "\n",
    "#existing = tokenizer.backend_tokenizer.pre_tokenizer\n",
    "#tokenizer.backend_tokenizer.pre_tokenizer = Sequence([nopunct, existing])"
   ]
  },
  {
   "cell_type": "code",
   "execution_count": null,
   "metadata": {
    "colab": {
     "base_uri": "https://localhost:8080/"
    },
    "id": "HJjAa0mMIZi2",
    "outputId": "28730778-48e4-4210-adb0-ee7d5a33d098"
   },
   "outputs": [],
   "source": [
    "#@title Mount google drive (where the data is uploaded).\n",
    "\n",
    "drive.mount('/content/drive')"
   ]
  },
  {
   "cell_type": "code",
   "execution_count": null,
   "metadata": {
    "id": "ImCSjS9VKyWY"
   },
   "outputs": [],
   "source": [
    "#base_dir = '/srv/data/uva/fmri/HP_data/fMRI'\n",
    "base_dir = '/content/drive/My Drive/HP_fmri'\n",
    "subject_id = 'K' #@param \n",
    "subject_data = np.load(f'{base_dir}/data_subject_{subject_id}.npy')\n",
    "time_fmri = np.load(f'{base_dir}/time_fmri.npy')\n",
    "runs_fmri = np.load(f'{base_dir}/runs_fmri.npy')\n",
    "words_fmri = np.load(f'{base_dir}/words_fmri.npy')\n",
    "time_words_fmri = np.load(f'{base_dir}/time_words_fmri.npy')"
   ]
  },
  {
   "cell_type": "code",
   "execution_count": null,
   "metadata": {},
   "outputs": [],
   "source": [
    "words_fmri.shape"
   ]
  },
  {
   "cell_type": "code",
   "execution_count": null,
   "metadata": {},
   "outputs": [],
   "source": [
    "SKIP_WORDS = 20\n",
    "END_WORDS = 5129"
   ]
  },
  {
   "cell_type": "code",
   "execution_count": null,
   "metadata": {},
   "outputs": [],
   "source": [
    "def split_sentence_naive(words):\n",
    "    sent = []\n",
    "    for word in words:\n",
    "#        print(word, sent)\n",
    "        if word == \".\":\n",
    "            continue\n",
    "        if word[0] == '\"':\n",
    "            word = word[1:]\n",
    "        if word[-1] == '\"':\n",
    "            word = word[:-1]\n",
    "        if word[-1] in [\".\", \"!\", \"?\"]:\n",
    "            sent.append(word[:-1])\n",
    "#            print(\"YIELD\")\n",
    "            yield sent\n",
    "            sent = []\n",
    "        elif word[-1] == \",\":\n",
    "            sent.append(word[:-1])\n",
    "        else:\n",
    "            sent.append(word)\n",
    "    if len(sent) > 0:\n",
    "#        print(\"YIELD\")\n",
    "        yield sent"
   ]
  },
  {
   "cell_type": "code",
   "execution_count": null,
   "metadata": {},
   "outputs": [],
   "source": [
    "naive_sents = list(split_sentence_naive(words_fmri))"
   ]
  },
  {
   "cell_type": "code",
   "execution_count": null,
   "metadata": {
    "colab": {
     "base_uri": "https://localhost:8080/"
    },
    "id": "FwSP7D8oq-c_",
    "outputId": "0b10bcfc-5948-4db2-8b88-b143665f383f",
    "scrolled": false
   },
   "outputs": [],
   "source": [
    "encoded_sentences = tokenizer.batch_encode_plus(naive_sents, is_split_into_words = True, padding=True, return_tensors=\"pt\")\n",
    "\n",
    "print('sentence:', naive_sents[0])\n",
    "print('encoded sentences:', encoded_sentences['input_ids'][0], encoded_sentences['attention_mask'][0])"
   ]
  },
  {
   "cell_type": "code",
   "execution_count": null,
   "metadata": {},
   "outputs": [],
   "source": [
    "class SentenceDataset(torch.utils.data.Dataset):\n",
    "    \"\"\"\n",
    "        Custom Dataset class that lets us return the word ID list as\n",
    "        a tensor so it is compatible with the DataLoader. We need the\n",
    "        word IDs to merge back together the words that get split into\n",
    "        multiple tokens by the tokenizer\n",
    "    \"\"\"\n",
    "    def __init__(self, sents:transformers.tokenization_utils_base.BatchEncoding):\n",
    "        self.sents = sents\n",
    "    def __len__(self):\n",
    "        return self.sents['input_ids'].size(0)\n",
    "    def __getitem__(self, idx:int):\n",
    "        sent = self.sents[idx]\n",
    "#        print(\"input_ids\", sent.ids)\n",
    "#        print(\"word_ids\", sent.word_ids)\n",
    "#        print(\"mask\", sent.attention_mask)\n",
    "        return {\n",
    "            'input_ids': torch.tensor(sent.ids),\n",
    "            'word_ids': torch.tensor(list(map(lambda e: -1 if e is None else e, sent.word_ids))),\n",
    "            'attention_mask': torch.tensor(sent.attention_mask)\n",
    "        }"
   ]
  },
  {
   "cell_type": "code",
   "execution_count": null,
   "metadata": {},
   "outputs": [],
   "source": [
    "def get_batches(input_dict, batch_size :int = 2):\n",
    "    tensor_dataset = SentenceDataset(input_dict)\n",
    "    tensor_dataloader = torch.utils.data.DataLoader(tensor_dataset, batch_size=batch_size)\n",
    "    \n",
    "    return tensor_dataloader"
   ]
  },
  {
   "cell_type": "code",
   "execution_count": null,
   "metadata": {
    "id": "4ufw4SxltAwE"
   },
   "outputs": [],
   "source": [
    "dl = get_batches(encoded_sentences, batch_size=11)"
   ]
  },
  {
   "cell_type": "code",
   "execution_count": null,
   "metadata": {},
   "outputs": [],
   "source": [
    "def get_word_vectors(model, inputs, attention_mask, states, word_ids, layers):\n",
    "    \"\"\" Push input IDs through model. Stack and sum `layers` (last four by default).\n",
    "        Select only those subword token outputs that belong to our word of interest\n",
    "        and average them.\"\"\" \n",
    "    token_len = attention_mask.sum().item()\n",
    "    if pretrained_weights in ['gpt2', 'gpt2-medium', 'gpt2-large']:\n",
    "        word_indices = np.array(list(map(lambda e: -1 if e is None else e, word_ids)))[:token_len]\n",
    "#        print(word_indices)\n",
    "        word_groups = np.split(np.arange(word_indices.shape[0]), np.unique(word_indices, return_index=True)[1])[1:]\n",
    "#        print(word_groups)\n",
    "    else:\n",
    "        word_indices = np.array(list(map(lambda e: -1 if e is None else e, word_ids)))[1:token_len - 1]\n",
    "        word_groups = np.split(np.arange(word_indices.shape[0]) + 1, np.unique(word_indices, return_index=True)[1])[1:]\n",
    "    # Stack all words in the sentence\n",
    "    sent_tokens_output = torch.stack([\n",
    "        # Sum the requested layers\n",
    "        torch.stack([\n",
    "                states[i].detach()[token_ids_word].mean(axis=0)\n",
    "                    if i > 0 else\n",
    "                model.embeddings.word_embeddings(inputs)[token_ids_word].mean(axis=0)\n",
    "                        for i in layers\n",
    "            ]).sum(axis=0).squeeze()\n",
    "                for token_ids_word in word_groups\n",
    "        ])\n",
    "    return sent_tokens_output\n"
   ]
  },
  {
   "cell_type": "code",
   "execution_count": null,
   "metadata": {
    "scrolled": true
   },
   "outputs": [],
   "source": [
    "nlp_features = None\n",
    "for batch, input_dict in enumerate(dl):\n",
    "    word_ids = input_dict.pop('word_ids')\n",
    "    mask = input_dict['attention_mask']\n",
    "    input_ids = input_dict['input_ids']\n",
    "    output = model(**input_dict)\n",
    "\n",
    "    activations = torch.transpose(torch.stack(output.hidden_states), 0, 1)\n",
    "    result = np.concatenate(\n",
    "            [\n",
    "                get_word_vectors(model, si, sm, sa, sw, [1])\n",
    "                    for sw, sm , si, sa in zip(word_ids, mask, input_ids, activations)\n",
    "                            if pretrained_weights in ['gpt2', 'gpt2-medium', 'gpt2-large'] or sm.sum().item() > 2\n",
    "\n",
    "            ]\n",
    "        )\n",
    "    if nlp_features is None:\n",
    "        nlp_features = result\n",
    "    else:\n",
    "        nlp_features = np.concatenate([nlp_features, result])\n",
    "print(nlp_features.shape)"
   ]
  },
  {
   "cell_type": "code",
   "execution_count": null,
   "metadata": {
    "code_folding": [],
    "id": "AvTkAP2ORHVJ"
   },
   "outputs": [],
   "source": [
    "def delay_one(mat, d):\n",
    "    \"\"\"delays a matrix by a delay d. Positive d ==> row t has row t-d.\"\"\"\n",
    "    new_mat = np.zeros_like(mat)\n",
    "    if d>0:\n",
    "        new_mat[d:] = mat[:-d]\n",
    "    elif d<0:\n",
    "        new_mat[:d] = mat[-d:]\n",
    "    else:\n",
    "        new_mat = mat\n",
    "    return new_mat\n",
    "\n",
    "def delay_mat(mat, delays):\n",
    "    \"\"\" delays a matrix by a set of delays d.\n",
    "        a row t in the returned matrix has the concatenated:\n",
    "        {row(t-delays[0],t-delays[1]...t-delays[last] ).\n",
    "    \"\"\"\n",
    "    new_mat = np.concatenate([delay_one(mat, d) for d in delays],axis = -1)\n",
    "    return new_mat\n",
    "\n",
    "def prepare_nlp_features(train_features, test_features, word_train_indicator, TR_train_indicator, SKIP_WORDS=20, END_WORDS=5129):\n",
    "        \n",
    "    time = np.load(f'{base_dir}/time_fmri.npy')\n",
    "    runs = np.load(f'{base_dir}/runs_fmri.npy') \n",
    "    time_words = np.load(f'{base_dir}/time_words_fmri.npy')\n",
    "    time_words = time_words[SKIP_WORDS:END_WORDS]\n",
    "        \n",
    "    words_id = np.zeros([len(time_words)])\n",
    "    # w=find what TR each word belongs to\n",
    "    for i in range(len(time_words)):\n",
    "        words_id[i] = np.where(time_words[i]> time)[0][-1]\n",
    "        \n",
    "    all_features = np.zeros([time_words.shape[0], train_features.shape[1]])\n",
    "    all_features[word_train_indicator] = train_features\n",
    "    all_features[~word_train_indicator] = test_features\n",
    "        \n",
    "    p = all_features.shape[1]\n",
    "    tmp = np.zeros([time.shape[0], p])\n",
    "    for i in range(time.shape[0]):\n",
    "        tmp[i] = np.mean(all_features[(words_id<=i)*(words_id>i-1)],0)\n",
    "    tmp = delay_mat(tmp, np.arange(1,5))\n",
    "\n",
    "    # remove the edges of each run\n",
    "    tmp = np.vstack([zscore(tmp[runs==i][20:-15]) for i in range(1,5)])\n",
    "    tmp = np.nan_to_num(tmp)\n",
    "        \n",
    "    return tmp[TR_train_indicator], tmp[~TR_train_indicator]\n",
    "\n",
    "def get_fold_flags(n, n_folds):\n",
    "    flags = np.zeros((n))\n",
    "    num_items_in_each_fold = int(np.floor(n/n_folds))\n",
    "    for i in range(0,n_folds -1):\n",
    "        flags[i*num_items_in_each_fold:(i+1)*num_items_in_each_fold] = i\n",
    "    flags[(n_folds-1)*num_items_in_each_fold:] = (n_folds-1)\n",
    "    return flags\n",
    "\n",
    "def tr_to_word_train_indicator(tr_train_indicator, skip_words=20, end_words=5176):\n",
    "    time = np.load(f'{base_dir}/time_fmri.npy')\n",
    "    runs = np.load(f'{base_dir}/runs_fmri.npy') \n",
    "    time_words = np.load(f'{base_dir}/time_words_fmri.npy')\n",
    "    time_words = time_words[skip_words:end_words]\n",
    "        \n",
    "    word_train_indicator = np.zeros([len(time_words)], dtype=bool)    \n",
    "    words_id = np.zeros([len(time_words)],dtype=int)\n",
    "    # Find what TR each word belongs to.\n",
    "    for i in range(len(time_words)):                \n",
    "        words_id[i] = np.where(time_words[i]> time)[0][-1]\n",
    "        \n",
    "        if words_id[i] <= len(runs) - 15:\n",
    "            offset = runs[int(words_id[i])]*20 + (runs[int(words_id[i])]-1)*15\n",
    "            if tr_train_indicator[int(words_id[i])-offset-1] == 1:\n",
    "                word_train_indicator[i] = True\n",
    "    return word_train_indicator "
   ]
  },
  {
   "cell_type": "code",
   "execution_count": null,
   "metadata": {
    "colab": {
     "base_uri": "https://localhost:8080/"
    },
    "id": "1GbCOo85SBrY",
    "outputId": "164fa3a6-c1ad-47ca-82b2-e0bfbba4738c"
   },
   "outputs": [],
   "source": [
    "n_words = subject_data.shape[0]\n",
    "n_voxels = subject_data.shape[1]\n",
    "print(f'Number of voxels for this subject is {n_voxels} for {n_words} scans.')"
   ]
  },
  {
   "cell_type": "code",
   "execution_count": null,
   "metadata": {
    "id": "C6Y1GlCcoY9T"
   },
   "outputs": [],
   "source": [
    "n_folds = 4\n",
    "test_fold = 1\n",
    "skip = 5\n",
    "fold_flags = get_fold_flags(n_words, n_folds=n_folds)\n",
    "train_ind = fold_flags!=test_fold\n",
    "test_ind = fold_flags==test_fold\n",
    "train_indicator = tr_to_word_train_indicator(train_ind, skip_words=SKIP_WORDS, end_words=END_WORDS)"
   ]
  },
  {
   "cell_type": "code",
   "execution_count": null,
   "metadata": {},
   "outputs": [],
   "source": [
    "nlp_features.shape"
   ]
  },
  {
   "cell_type": "code",
   "execution_count": null,
   "metadata": {
    "colab": {
     "base_uri": "https://localhost:8080/"
    },
    "id": "qm9vQZMisj--",
    "outputId": "9a08c8e2-300e-48b7-c231-c7f304209063"
   },
   "outputs": [],
   "source": [
    "train_nlp_features = nlp_features[SKIP_WORDS:END_WORDS,:][train_indicator]\n",
    "test_nlp_features = nlp_features[SKIP_WORDS:END_WORDS,:][~train_indicator]"
   ]
  },
  {
   "cell_type": "code",
   "execution_count": null,
   "metadata": {
    "colab": {
     "base_uri": "https://localhost:8080/"
    },
    "id": "qm9vQZMisj--",
    "outputId": "9a08c8e2-300e-48b7-c231-c7f304209063"
   },
   "outputs": [],
   "source": [
    "train_features, test_features = prepare_nlp_features(\n",
    "        train_nlp_features,\n",
    "        test_nlp_features,\n",
    "        train_indicator,\n",
    "        train_ind,\n",
    "        SKIP_WORDS=SKIP_WORDS,\n",
    "        END_WORDS=END_WORDS\n",
    "    )"
   ]
  },
  {
   "cell_type": "code",
   "execution_count": null,
   "metadata": {
    "colab": {
     "base_uri": "https://localhost:8080/"
    },
    "id": "qm9vQZMisj--",
    "outputId": "9a08c8e2-300e-48b7-c231-c7f304209063"
   },
   "outputs": [],
   "source": [
    "print(train_features.shape, test_features.shape)"
   ]
  },
  {
   "cell_type": "code",
   "execution_count": null,
   "metadata": {
    "id": "992l0uQYxpEp"
   },
   "outputs": [],
   "source": [
    "#@title Get fmri data points.\n",
    "\n",
    "train_data = subject_data[train_ind]\n",
    "test_data = subject_data[test_ind]"
   ]
  },
  {
   "cell_type": "code",
   "execution_count": null,
   "metadata": {
    "cellView": "form",
    "id": "q8JR-czTpFG0"
   },
   "outputs": [],
   "source": [
    "#@title Filter out some of data points in the margins of test and train sets.\n",
    "\n",
    "# skip TRs between train and test data\n",
    "if test_fold == 0: # just remove from front end\n",
    "    train_data = train_data[skip:,:]\n",
    "    train_features = train_features[skip:,:]\n",
    "elif test_fold == n_folds-1: # just remove from back end\n",
    "    train_data = train_data[:-skip,:]\n",
    "    train_features = train_features[:-skip,:]\n",
    "else:\n",
    "    test_data = test_data[skip:-skip,:]\n",
    "    test_features = test_features[skip:-skip,:]\n",
    "\n",
    "# normalize data\n",
    "train_data = np.nan_to_num(zscore(np.nan_to_num(train_data)))\n",
    "test_data = np.nan_to_num(zscore(np.nan_to_num(test_data)))"
   ]
  },
  {
   "cell_type": "code",
   "execution_count": null,
   "metadata": {
    "colab": {
     "base_uri": "https://localhost:8080/"
    },
    "id": "bvFi-uqVqH2L",
    "outputId": "972058ad-1712-4645-a7a4-bfff5049608d"
   },
   "outputs": [],
   "source": [
    "print('fmri features:', train_data.shape, test_data.shape)\n",
    "print('nlp features:', train_features.shape, test_features.shape)"
   ]
  },
  {
   "cell_type": "markdown",
   "metadata": {
    "id": "3IUN0vbLFcaH"
   },
   "source": [
    "# Representational Similarity"
   ]
  },
  {
   "cell_type": "code",
   "execution_count": null,
   "metadata": {},
   "outputs": [],
   "source": [
    "from itertools import combinations\n",
    "from functools import partial\n",
    "import mantel\n",
    "def my_pearson_rsa(DM1, DM2):\n",
    "    \"\"\"Compute representational similarity between two disimilarity matrices\n",
    "    \"\"\"\n",
    "    # selection elements of the upper triangle\n",
    "    elements1 = DM1[np.triu_indices(DM1.shape[1],k=1)]\n",
    "    elements2 = DM2[np.triu_indices(DM2.shape[1],k=1)]\n",
    "\n",
    "    # Here you can do pearson-r instead of this (or again any measure of similarity).\n",
    "    correlation_of_similarities = stats.pearsonr(elements1,elements2)\n",
    "\n",
    "    #print(\"upper triangular1:\",elements1)\n",
    "    #print(\"upper triangular2:\",elements2)\n",
    "    return correlation_of_similarities\n",
    "\n",
    "mantel_func = lambda l, r: mantel.test(l, r, method=\"pearson\")[0]\n"
   ]
  },
  {
   "cell_type": "code",
   "execution_count": null,
   "metadata": {
    "id": "pPgeqyk003I2"
   },
   "outputs": [],
   "source": [
    "def dot_product_rsa(reps1, reps2):\n",
    "    \"\"\"Compute representational similarity between two sets of representations.\n",
    "\n",
    "       Args:\n",
    "            reps1: float array; [num_examples, feature_size1]\n",
    "            reps2: float array; [num_examples, feature_size2]\n",
    "    \"\"\"\n",
    "    assert reps1.shape[0] == reps2.shape[0], 'First dimensions of inputs should match.'\n",
    "\n",
    "    # Normalize input representations\n",
    "    reps1 = reps1 / np.linalg.norm(reps1, axis=-1)[...,None]\n",
    "    reps2 = reps2 / np.linalg.norm(reps2, axis=-1)[...,None]\n",
    "\n",
    "    # Compute and normalize similarity matrices:\n",
    "    similarities1 = reps1.dot(reps1.T) # instead of dot product you can use any similarity measure\n",
    "    similarities2 = reps2.dot(reps2.T)\n",
    "    similarities1 = similarities1 / np.linalg.norm(similarities1, axis=-1)[...,None]\n",
    "    similarities2 = similarities2 / np.linalg.norm(similarities2, axis=-1)[...,None]\n",
    "\n",
    "    # Here you can do pearson-r instead of this (or again any measure of similarity).\n",
    "    similarity_of_similarity = np.sum(similarities1 * similarities2, axis=-1)\n",
    "    return np.mean(similarity_of_similarity)"
   ]
  },
  {
   "cell_type": "code",
   "execution_count": null,
   "metadata": {
    "id": "orPAZV5Wipgi"
   },
   "outputs": [],
   "source": [
    "def pearson_rsa(reps1, reps2):\n",
    "    \"\"\"Compute representational similarity between two sets of representations.\n",
    "\n",
    "    Args:\n",
    "        reps1: float array; [num_examples, feature_size1]\n",
    "        reps2: float array; [num_examples, feature_size2]\n",
    "    \"\"\"\n",
    "    assert reps1.shape[0] == reps2.shape[0], 'First dimensions of inputs should match.'\n",
    "\n",
    "    # Normalize input representations\n",
    "    reps1 = reps1 / np.linalg.norm(reps1, axis=-1)[...,None]\n",
    "    reps2 = reps2 / np.linalg.norm(reps2, axis=-1)[...,None]\n",
    "\n",
    "    # Compute and normalize similarity matrices:\n",
    "    similarities1 = reps1.dot(reps1.T) # instead of dot product you can use any similarity measure\n",
    "    similarities2 = reps2.dot(reps2.T)\n",
    "    similarities1 = similarities1 / np.linalg.norm(similarities1, axis=-1)[...,None]\n",
    "    similarities2 = similarities2 / np.linalg.norm(similarities2, axis=-1)[...,None]\n",
    "\n",
    "    # Here you can do pearson-r instead of this (or again any measure of similarity).\n",
    "    correlation_of_similarities = [stats.pearsonr(x,y)[0] for x,y in zip(similarities1,similarities2)]\n",
    "    return np.mean(correlation_of_similarities)"
   ]
  },
  {
   "cell_type": "code",
   "execution_count": null,
   "metadata": {
    "id": "QWa2CjELB5fl"
   },
   "outputs": [],
   "source": [
    "def dot_product_rsa_for_lists_of_reps(reps):\n",
    "    \"\"\"Compute representational similarity between two sets of representations.\n",
    "\n",
    "    Args:\n",
    "        reps: list of float arrays; List of arrrays with shape [num_examples, feature_size]\n",
    "        (feature size can be different for each item in the list).\n",
    "    \"\"\"\n",
    "    norm_reps = []\n",
    "    for rep in reps:\n",
    "        # Normalize input representations\n",
    "        norm_reps.append(rep / np.linalg.norm(rep, axis=-1)[...,None])\n",
    "\n",
    "    # Compute and normalize similarity matrices:\n",
    "    similarity_matrices = []\n",
    "    similarity_matrices_n = []\n",
    "    for rep, norm_rep in zip(reps, norm_reps):\n",
    "        similarities = rep.dot(rep.T) # instead of dot product you can use any similarity measure\n",
    "        similarity_matrices.append(similarities)\n",
    "        similarities_n = norm_rep.dot(norm_rep.T) # instead of dot product you can use any similarity measure\n",
    "        similarities_n = similarities / np.linalg.norm(similarities, axis=-1)[...,None]\n",
    "        similarity_matrices_n.append(similarities_n)\n",
    "\n",
    "    # Shape of similarity_matrices: [num_of_rep_spaces, num_examples, num_examples]\n",
    "    similarity_matrices = np.asarray(similarity_matrices) \n",
    "    similarity_matrices_n = np.asarray(similarity_matrices_n)\n",
    "    sim_of_sim_mat = np.zeros((similarity_matrices.shape[0], \n",
    "                               similarity_matrices.shape[0]))\n",
    "    sim_of_sim_mat2 = np.zeros((similarity_matrices.shape[0], \n",
    "                               similarity_matrices.shape[0]))\n",
    "    sim_of_sim_mat3 = np.zeros((similarity_matrices.shape[0], \n",
    "                               similarity_matrices.shape[0]))\n",
    "    for i in np.arange(sim_of_sim_mat.shape[0]):\n",
    "        for j in np.arange(sim_of_sim_mat.shape[1]):\n",
    "            # Here you can do pearson-r instead of this (or again any measure of similarity).\n",
    "            similarity_of_similarity = np.sum(\n",
    "                    similarity_matrices_n[i] * similarity_matrices_n[j],\n",
    "                    axis=-1\n",
    "                )\n",
    "            similarity_score = np.mean(similarity_of_similarity)\n",
    "            sim_of_sim_mat[i][j] = similarity_score\n",
    "            alt = my_pearson_rsa(similarity_matrices[i], similarity_matrices[j])\n",
    "            sim_of_sim_mat2[i][j] = alt[0]\n",
    "            sim_of_sim_mat3[i][j] = alt[1]\n",
    "    return sim_of_sim_mat, sim_of_sim_mat2, sim_of_sim_mat3"
   ]
  },
  {
   "cell_type": "code",
   "execution_count": null,
   "metadata": {
    "colab": {
     "base_uri": "https://localhost:8080/"
    },
    "id": "9iOyeZqY1Ox6",
    "outputId": "40b12c28-c364-4185-ce4b-9ac5c8ba3022"
   },
   "outputs": [],
   "source": [
    "dot_product_rsa(train_data, train_data)"
   ]
  },
  {
   "cell_type": "code",
   "execution_count": null,
   "metadata": {
    "colab": {
     "base_uri": "https://localhost:8080/"
    },
    "id": "hJZ8gfoSktA4",
    "outputId": "dac07d57-cbfb-46d9-d62b-a95032ee2c63"
   },
   "outputs": [],
   "source": [
    "pearson_rsa(train_data, train_data)"
   ]
  },
  {
   "cell_type": "code",
   "execution_count": null,
   "metadata": {
    "colab": {
     "base_uri": "https://localhost:8080/"
    },
    "id": "NV3KoUZfDmoP",
    "outputId": "363c38d5-d396-46a2-ae9a-96aa77fa5f3f"
   },
   "outputs": [],
   "source": [
    "dot_product_rsa_for_lists_of_reps([train_data, train_data])"
   ]
  },
  {
   "cell_type": "code",
   "execution_count": null,
   "metadata": {
    "colab": {
     "base_uri": "https://localhost:8080/"
    },
    "id": "_ROzWo2D1SWB",
    "outputId": "525d2824-ee40-486e-a362-e8efb933526d"
   },
   "outputs": [],
   "source": [
    "a, b, c = dot_product_rsa_for_lists_of_reps([train_data, train_features])\n",
    "print(\"#> a, b, c = dot_product_rsa_for_lists_of_reps([train_data, train_features])\\n\")\n",
    "print(\"\\toriginal\\n\\n\", a, \"\\n\")\n",
    "print(\"\\t'my_pearson_rsa'\\n\\n\", b, \"\\n\")\n",
    "print(\"\\tp-values\\n\\n\", c, \"\\n\")"
   ]
  },
  {
   "cell_type": "code",
   "execution_count": null,
   "metadata": {
    "colab": {
     "base_uri": "https://localhost:8080/"
    },
    "id": "OVsTeJBY3-oB",
    "outputId": "e8679c0f-2a30-4d87-a546-5774538899a0"
   },
   "outputs": [],
   "source": [
    "dot_product_rsa_for_lists_of_reps([train_features, train_features])"
   ]
  },
  {
   "cell_type": "code",
   "execution_count": null,
   "metadata": {
    "colab": {
     "base_uri": "https://localhost:8080/"
    },
    "id": "mTJ69fH14qyC",
    "outputId": "64628ab1-4d4b-4b35-bcd3-6268d580e791"
   },
   "outputs": [],
   "source": [
    "#@title Compare two subjects:\n",
    "\n",
    "subject_id_1 = 'K' #@param \n",
    "subject_data_1 = np.load(f'{base_dir}/data_subject_{subject_id_1}.npy')\n",
    "\n",
    "subject_id_2 = 'F' #@param \n",
    "subject_data_2 = np.load(f'{base_dir}/data_subject_{subject_id_2}.npy')\n",
    "\n",
    "subject_data_1 = np.nan_to_num(zscore(np.nan_to_num(subject_data_1)))\n",
    "subject_data_2 = np.nan_to_num(zscore(np.nan_to_num(subject_data_2)))\n",
    "\n",
    "print(f'Representational similarity between subject {subject_id_1} and {subject_id_2} is:', dot_product_rsa(subject_data_1, subject_data_2))"
   ]
  },
  {
   "cell_type": "code",
   "execution_count": null,
   "metadata": {
    "colab": {
     "base_uri": "https://localhost:8080/"
    },
    "id": "40yyt-26-Yhi",
    "outputId": "f990383e-4391-4e7f-f872-b0777283e4c4"
   },
   "outputs": [],
   "source": [
    "subjects = ['K', 'F', 'J', 'M', 'N']\n",
    "subject_data_dict = {}\n",
    "\n",
    "for subject in subjects:\n",
    "    subject_data_dict[subject] = np.load(f'{base_dir}/data_subject_{subject}.npy')\n",
    "\n",
    "results = dot_product_rsa_for_lists_of_reps(subject_data_dict.values())\n",
    "for heading, result in zip([\"### original\", \"### my_pearson_rsa\", \"### p-values\"], results):\n",
    "    np.fill_diagonal(result, 0)\n",
    "    display(Markdown(heading))\n",
    "    display(result)\n",
    "#    result = result.round(3)\n",
    "    # put zeros on the diagonal to make the differences between the values stand out more\n",
    "    # this exaggerates the differences\n",
    "    np.fill_diagonal(result, 0)\n",
    "    seaborn.heatmap(data=result, cmap=seaborn.color_palette(\"coolwarm\", as_cmap=True))\n",
    "    plt.show()"
   ]
  }
 ],
 "metadata": {
  "accelerator": "GPU",
  "colab": {
   "collapsed_sections": [],
   "name": "load_hp_fmri_dataset.ipynb",
   "provenance": [],
   "toc_visible": true
  },
  "kernelspec": {
   "display_name": "Python 3",
   "language": "python",
   "name": "python3"
  },
  "language_info": {
   "codemirror_mode": {
    "name": "ipython",
    "version": 3
   },
   "file_extension": ".py",
   "mimetype": "text/x-python",
   "name": "python",
   "nbconvert_exporter": "python",
   "pygments_lexer": "ipython3",
   "version": "3.6.13"
  },
  "widgets": {
   "application/vnd.jupyter.widget-state+json": {
    "01dd3b0d971d41c790017d0c84565e97": {
     "model_module": "@jupyter-widgets/controls",
     "model_name": "FloatProgressModel",
     "state": {
      "_dom_classes": [],
      "_model_module": "@jupyter-widgets/controls",
      "_model_module_version": "1.5.0",
      "_model_name": "FloatProgressModel",
      "_view_count": null,
      "_view_module": "@jupyter-widgets/controls",
      "_view_module_version": "1.5.0",
      "_view_name": "ProgressView",
      "bar_style": "success",
      "description": "Downloading: 100%",
      "description_tooltip": null,
      "layout": "IPY_MODEL_f7658f5de24d467e9eef7ea2b6f2d794",
      "max": 442,
      "min": 0,
      "orientation": "horizontal",
      "style": "IPY_MODEL_8c0691f470d14d658405242437ba7bf8",
      "value": 442
     }
    },
    "05f27c0855d84c33ae63eeb4cc48a4ad": {
     "model_module": "@jupyter-widgets/controls",
     "model_name": "DescriptionStyleModel",
     "state": {
      "_model_module": "@jupyter-widgets/controls",
      "_model_module_version": "1.5.0",
      "_model_name": "DescriptionStyleModel",
      "_view_count": null,
      "_view_module": "@jupyter-widgets/base",
      "_view_module_version": "1.2.0",
      "_view_name": "StyleView",
      "description_width": ""
     }
    },
    "0dcbe41f329f4d5b84825e3af7506480": {
     "model_module": "@jupyter-widgets/base",
     "model_name": "LayoutModel",
     "state": {
      "_model_module": "@jupyter-widgets/base",
      "_model_module_version": "1.2.0",
      "_model_name": "LayoutModel",
      "_view_count": null,
      "_view_module": "@jupyter-widgets/base",
      "_view_module_version": "1.2.0",
      "_view_name": "LayoutView",
      "align_content": null,
      "align_items": null,
      "align_self": null,
      "border": null,
      "bottom": null,
      "display": null,
      "flex": null,
      "flex_flow": null,
      "grid_area": null,
      "grid_auto_columns": null,
      "grid_auto_flow": null,
      "grid_auto_rows": null,
      "grid_column": null,
      "grid_gap": null,
      "grid_row": null,
      "grid_template_areas": null,
      "grid_template_columns": null,
      "grid_template_rows": null,
      "height": null,
      "justify_content": null,
      "justify_items": null,
      "left": null,
      "margin": null,
      "max_height": null,
      "max_width": null,
      "min_height": null,
      "min_width": null,
      "object_fit": null,
      "object_position": null,
      "order": null,
      "overflow": null,
      "overflow_x": null,
      "overflow_y": null,
      "padding": null,
      "right": null,
      "top": null,
      "visibility": null,
      "width": null
     }
    },
    "243cd6612bfc43ffbf5f31a8982aa77a": {
     "model_module": "@jupyter-widgets/base",
     "model_name": "LayoutModel",
     "state": {
      "_model_module": "@jupyter-widgets/base",
      "_model_module_version": "1.2.0",
      "_model_name": "LayoutModel",
      "_view_count": null,
      "_view_module": "@jupyter-widgets/base",
      "_view_module_version": "1.2.0",
      "_view_name": "LayoutView",
      "align_content": null,
      "align_items": null,
      "align_self": null,
      "border": null,
      "bottom": null,
      "display": null,
      "flex": null,
      "flex_flow": null,
      "grid_area": null,
      "grid_auto_columns": null,
      "grid_auto_flow": null,
      "grid_auto_rows": null,
      "grid_column": null,
      "grid_gap": null,
      "grid_row": null,
      "grid_template_areas": null,
      "grid_template_columns": null,
      "grid_template_rows": null,
      "height": null,
      "justify_content": null,
      "justify_items": null,
      "left": null,
      "margin": null,
      "max_height": null,
      "max_width": null,
      "min_height": null,
      "min_width": null,
      "object_fit": null,
      "object_position": null,
      "order": null,
      "overflow": null,
      "overflow_x": null,
      "overflow_y": null,
      "padding": null,
      "right": null,
      "top": null,
      "visibility": null,
      "width": null
     }
    },
    "27536f8a15f0425fa006cb7bbab00587": {
     "model_module": "@jupyter-widgets/base",
     "model_name": "LayoutModel",
     "state": {
      "_model_module": "@jupyter-widgets/base",
      "_model_module_version": "1.2.0",
      "_model_name": "LayoutModel",
      "_view_count": null,
      "_view_module": "@jupyter-widgets/base",
      "_view_module_version": "1.2.0",
      "_view_name": "LayoutView",
      "align_content": null,
      "align_items": null,
      "align_self": null,
      "border": null,
      "bottom": null,
      "display": null,
      "flex": null,
      "flex_flow": null,
      "grid_area": null,
      "grid_auto_columns": null,
      "grid_auto_flow": null,
      "grid_auto_rows": null,
      "grid_column": null,
      "grid_gap": null,
      "grid_row": null,
      "grid_template_areas": null,
      "grid_template_columns": null,
      "grid_template_rows": null,
      "height": null,
      "justify_content": null,
      "justify_items": null,
      "left": null,
      "margin": null,
      "max_height": null,
      "max_width": null,
      "min_height": null,
      "min_width": null,
      "object_fit": null,
      "object_position": null,
      "order": null,
      "overflow": null,
      "overflow_x": null,
      "overflow_y": null,
      "padding": null,
      "right": null,
      "top": null,
      "visibility": null,
      "width": null
     }
    },
    "33b54f4a36aa40bc9fa3e6d6d5a5cadb": {
     "model_module": "@jupyter-widgets/controls",
     "model_name": "HBoxModel",
     "state": {
      "_dom_classes": [],
      "_model_module": "@jupyter-widgets/controls",
      "_model_module_version": "1.5.0",
      "_model_name": "HBoxModel",
      "_view_count": null,
      "_view_module": "@jupyter-widgets/controls",
      "_view_module_version": "1.5.0",
      "_view_name": "HBoxView",
      "box_style": "",
      "children": [
       "IPY_MODEL_01dd3b0d971d41c790017d0c84565e97",
       "IPY_MODEL_349332bcfddd452aaaaacc51f0372633"
      ],
      "layout": "IPY_MODEL_d1d8317568b542bb97481bfd064b2805"
     }
    },
    "349332bcfddd452aaaaacc51f0372633": {
     "model_module": "@jupyter-widgets/controls",
     "model_name": "HTMLModel",
     "state": {
      "_dom_classes": [],
      "_model_module": "@jupyter-widgets/controls",
      "_model_module_version": "1.5.0",
      "_model_name": "HTMLModel",
      "_view_count": null,
      "_view_module": "@jupyter-widgets/controls",
      "_view_module_version": "1.5.0",
      "_view_name": "HTMLView",
      "description": "",
      "description_tooltip": null,
      "layout": "IPY_MODEL_cca888d1758c4865ae04062217a45142",
      "placeholder": "​",
      "style": "IPY_MODEL_fe45b5818c3049bf9d51c8a80604769f",
      "value": " 442/442 [00:00&lt;00:00, 7.82kB/s]"
     }
    },
    "3c09d21d0ce34eeb897f80e23d6aaebb": {
     "model_module": "@jupyter-widgets/base",
     "model_name": "LayoutModel",
     "state": {
      "_model_module": "@jupyter-widgets/base",
      "_model_module_version": "1.2.0",
      "_model_name": "LayoutModel",
      "_view_count": null,
      "_view_module": "@jupyter-widgets/base",
      "_view_module_version": "1.2.0",
      "_view_name": "LayoutView",
      "align_content": null,
      "align_items": null,
      "align_self": null,
      "border": null,
      "bottom": null,
      "display": null,
      "flex": null,
      "flex_flow": null,
      "grid_area": null,
      "grid_auto_columns": null,
      "grid_auto_flow": null,
      "grid_auto_rows": null,
      "grid_column": null,
      "grid_gap": null,
      "grid_row": null,
      "grid_template_areas": null,
      "grid_template_columns": null,
      "grid_template_rows": null,
      "height": null,
      "justify_content": null,
      "justify_items": null,
      "left": null,
      "margin": null,
      "max_height": null,
      "max_width": null,
      "min_height": null,
      "min_width": null,
      "object_fit": null,
      "object_position": null,
      "order": null,
      "overflow": null,
      "overflow_x": null,
      "overflow_y": null,
      "padding": null,
      "right": null,
      "top": null,
      "visibility": null,
      "width": null
     }
    },
    "3dc92395267041b7a83ffe17b2ab2ab6": {
     "model_module": "@jupyter-widgets/controls",
     "model_name": "HBoxModel",
     "state": {
      "_dom_classes": [],
      "_model_module": "@jupyter-widgets/controls",
      "_model_module_version": "1.5.0",
      "_model_name": "HBoxModel",
      "_view_count": null,
      "_view_module": "@jupyter-widgets/controls",
      "_view_module_version": "1.5.0",
      "_view_name": "HBoxView",
      "box_style": "",
      "children": [
       "IPY_MODEL_a173ac83ce254d149f8947d0191eeccf",
       "IPY_MODEL_c6b9db49b4ff4840853ce91ce5defcc3"
      ],
      "layout": "IPY_MODEL_27536f8a15f0425fa006cb7bbab00587"
     }
    },
    "5152d647392041dead440bae4ab70433": {
     "model_module": "@jupyter-widgets/controls",
     "model_name": "DescriptionStyleModel",
     "state": {
      "_model_module": "@jupyter-widgets/controls",
      "_model_module_version": "1.5.0",
      "_model_name": "DescriptionStyleModel",
      "_view_count": null,
      "_view_module": "@jupyter-widgets/base",
      "_view_module_version": "1.2.0",
      "_view_name": "StyleView",
      "description_width": ""
     }
    },
    "5cca5cec20544d8dbd6f03c9eedca7f9": {
     "model_module": "@jupyter-widgets/controls",
     "model_name": "HBoxModel",
     "state": {
      "_dom_classes": [],
      "_model_module": "@jupyter-widgets/controls",
      "_model_module_version": "1.5.0",
      "_model_name": "HBoxModel",
      "_view_count": null,
      "_view_module": "@jupyter-widgets/controls",
      "_view_module_version": "1.5.0",
      "_view_name": "HBoxView",
      "box_style": "",
      "children": [
       "IPY_MODEL_e02d05e23b8245fdaf9fade091ec4f0f",
       "IPY_MODEL_e80f0dd069784f5980c570a7521b4ffd"
      ],
      "layout": "IPY_MODEL_77841d0ee2df459bb68cae3722adf15a"
     }
    },
    "6abe26605aa44b6691e96f7a047783c4": {
     "model_module": "@jupyter-widgets/controls",
     "model_name": "DescriptionStyleModel",
     "state": {
      "_model_module": "@jupyter-widgets/controls",
      "_model_module_version": "1.5.0",
      "_model_name": "DescriptionStyleModel",
      "_view_count": null,
      "_view_module": "@jupyter-widgets/base",
      "_view_module_version": "1.2.0",
      "_view_name": "StyleView",
      "description_width": ""
     }
    },
    "77841d0ee2df459bb68cae3722adf15a": {
     "model_module": "@jupyter-widgets/base",
     "model_name": "LayoutModel",
     "state": {
      "_model_module": "@jupyter-widgets/base",
      "_model_module_version": "1.2.0",
      "_model_name": "LayoutModel",
      "_view_count": null,
      "_view_module": "@jupyter-widgets/base",
      "_view_module_version": "1.2.0",
      "_view_name": "LayoutView",
      "align_content": null,
      "align_items": null,
      "align_self": null,
      "border": null,
      "bottom": null,
      "display": null,
      "flex": null,
      "flex_flow": null,
      "grid_area": null,
      "grid_auto_columns": null,
      "grid_auto_flow": null,
      "grid_auto_rows": null,
      "grid_column": null,
      "grid_gap": null,
      "grid_row": null,
      "grid_template_areas": null,
      "grid_template_columns": null,
      "grid_template_rows": null,
      "height": null,
      "justify_content": null,
      "justify_items": null,
      "left": null,
      "margin": null,
      "max_height": null,
      "max_width": null,
      "min_height": null,
      "min_width": null,
      "object_fit": null,
      "object_position": null,
      "order": null,
      "overflow": null,
      "overflow_x": null,
      "overflow_y": null,
      "padding": null,
      "right": null,
      "top": null,
      "visibility": null,
      "width": null
     }
    },
    "79681574a14c47a989b05f81018610a7": {
     "model_module": "@jupyter-widgets/controls",
     "model_name": "ProgressStyleModel",
     "state": {
      "_model_module": "@jupyter-widgets/controls",
      "_model_module_version": "1.5.0",
      "_model_name": "ProgressStyleModel",
      "_view_count": null,
      "_view_module": "@jupyter-widgets/base",
      "_view_module_version": "1.2.0",
      "_view_name": "StyleView",
      "bar_color": null,
      "description_width": "initial"
     }
    },
    "838df9dc081847e2a262aa50f0976343": {
     "model_module": "@jupyter-widgets/controls",
     "model_name": "ProgressStyleModel",
     "state": {
      "_model_module": "@jupyter-widgets/controls",
      "_model_module_version": "1.5.0",
      "_model_name": "ProgressStyleModel",
      "_view_count": null,
      "_view_module": "@jupyter-widgets/base",
      "_view_module_version": "1.2.0",
      "_view_name": "StyleView",
      "bar_color": null,
      "description_width": "initial"
     }
    },
    "853cc914f299426c8481b3b5f0738abc": {
     "model_module": "@jupyter-widgets/controls",
     "model_name": "HTMLModel",
     "state": {
      "_dom_classes": [],
      "_model_module": "@jupyter-widgets/controls",
      "_model_module_version": "1.5.0",
      "_model_name": "HTMLModel",
      "_view_count": null,
      "_view_module": "@jupyter-widgets/controls",
      "_view_module_version": "1.5.0",
      "_view_name": "HTMLView",
      "description": "",
      "description_tooltip": null,
      "layout": "IPY_MODEL_243cd6612bfc43ffbf5f31a8982aa77a",
      "placeholder": "​",
      "style": "IPY_MODEL_6abe26605aa44b6691e96f7a047783c4",
      "value": " 268M/268M [00:07&lt;00:00, 33.5MB/s]"
     }
    },
    "8c0691f470d14d658405242437ba7bf8": {
     "model_module": "@jupyter-widgets/controls",
     "model_name": "ProgressStyleModel",
     "state": {
      "_model_module": "@jupyter-widgets/controls",
      "_model_module_version": "1.5.0",
      "_model_name": "ProgressStyleModel",
      "_view_count": null,
      "_view_module": "@jupyter-widgets/base",
      "_view_module_version": "1.2.0",
      "_view_name": "StyleView",
      "bar_color": null,
      "description_width": "initial"
     }
    },
    "8f16e3148c4340ea94fd10c0a92a08be": {
     "model_module": "@jupyter-widgets/controls",
     "model_name": "HBoxModel",
     "state": {
      "_dom_classes": [],
      "_model_module": "@jupyter-widgets/controls",
      "_model_module_version": "1.5.0",
      "_model_name": "HBoxModel",
      "_view_count": null,
      "_view_module": "@jupyter-widgets/controls",
      "_view_module_version": "1.5.0",
      "_view_name": "HBoxView",
      "box_style": "",
      "children": [
       "IPY_MODEL_92bc74aadded4c33b0a0562ed35c737d",
       "IPY_MODEL_b4bb3f320b08469f980ebe7276728917"
      ],
      "layout": "IPY_MODEL_a874b055a01c452196d4789f83731228"
     }
    },
    "8f47e3ef248640d9bf0e7c5150f96517": {
     "model_module": "@jupyter-widgets/controls",
     "model_name": "DescriptionStyleModel",
     "state": {
      "_model_module": "@jupyter-widgets/controls",
      "_model_module_version": "1.5.0",
      "_model_name": "DescriptionStyleModel",
      "_view_count": null,
      "_view_module": "@jupyter-widgets/base",
      "_view_module_version": "1.2.0",
      "_view_name": "StyleView",
      "description_width": ""
     }
    },
    "92bc74aadded4c33b0a0562ed35c737d": {
     "model_module": "@jupyter-widgets/controls",
     "model_name": "FloatProgressModel",
     "state": {
      "_dom_classes": [],
      "_model_module": "@jupyter-widgets/controls",
      "_model_module_version": "1.5.0",
      "_model_name": "FloatProgressModel",
      "_view_count": null,
      "_view_module": "@jupyter-widgets/controls",
      "_view_module_version": "1.5.0",
      "_view_name": "ProgressView",
      "bar_style": "success",
      "description": "Downloading: 100%",
      "description_tooltip": null,
      "layout": "IPY_MODEL_acde190699334f3e9bbadeacda4f422d",
      "max": 231508,
      "min": 0,
      "orientation": "horizontal",
      "style": "IPY_MODEL_a12c93c8358c44d7907ec591b5d60f9d",
      "value": 231508
     }
    },
    "9c7e54adeb354becbe7e39d23c8f27e0": {
     "model_module": "@jupyter-widgets/base",
     "model_name": "LayoutModel",
     "state": {
      "_model_module": "@jupyter-widgets/base",
      "_model_module_version": "1.2.0",
      "_model_name": "LayoutModel",
      "_view_count": null,
      "_view_module": "@jupyter-widgets/base",
      "_view_module_version": "1.2.0",
      "_view_name": "LayoutView",
      "align_content": null,
      "align_items": null,
      "align_self": null,
      "border": null,
      "bottom": null,
      "display": null,
      "flex": null,
      "flex_flow": null,
      "grid_area": null,
      "grid_auto_columns": null,
      "grid_auto_flow": null,
      "grid_auto_rows": null,
      "grid_column": null,
      "grid_gap": null,
      "grid_row": null,
      "grid_template_areas": null,
      "grid_template_columns": null,
      "grid_template_rows": null,
      "height": null,
      "justify_content": null,
      "justify_items": null,
      "left": null,
      "margin": null,
      "max_height": null,
      "max_width": null,
      "min_height": null,
      "min_width": null,
      "object_fit": null,
      "object_position": null,
      "order": null,
      "overflow": null,
      "overflow_x": null,
      "overflow_y": null,
      "padding": null,
      "right": null,
      "top": null,
      "visibility": null,
      "width": null
     }
    },
    "a084e04742d442e58feb754e720a64b1": {
     "model_module": "@jupyter-widgets/controls",
     "model_name": "HBoxModel",
     "state": {
      "_dom_classes": [],
      "_model_module": "@jupyter-widgets/controls",
      "_model_module_version": "1.5.0",
      "_model_name": "HBoxModel",
      "_view_count": null,
      "_view_module": "@jupyter-widgets/controls",
      "_view_module_version": "1.5.0",
      "_view_name": "HBoxView",
      "box_style": "",
      "children": [
       "IPY_MODEL_e6719348726a45c1b9042f9f898804f4",
       "IPY_MODEL_853cc914f299426c8481b3b5f0738abc"
      ],
      "layout": "IPY_MODEL_9c7e54adeb354becbe7e39d23c8f27e0"
     }
    },
    "a12c93c8358c44d7907ec591b5d60f9d": {
     "model_module": "@jupyter-widgets/controls",
     "model_name": "ProgressStyleModel",
     "state": {
      "_model_module": "@jupyter-widgets/controls",
      "_model_module_version": "1.5.0",
      "_model_name": "ProgressStyleModel",
      "_view_count": null,
      "_view_module": "@jupyter-widgets/base",
      "_view_module_version": "1.2.0",
      "_view_name": "StyleView",
      "bar_color": null,
      "description_width": "initial"
     }
    },
    "a173ac83ce254d149f8947d0191eeccf": {
     "model_module": "@jupyter-widgets/controls",
     "model_name": "FloatProgressModel",
     "state": {
      "_dom_classes": [],
      "_model_module": "@jupyter-widgets/controls",
      "_model_module_version": "1.5.0",
      "_model_name": "FloatProgressModel",
      "_view_count": null,
      "_view_module": "@jupyter-widgets/controls",
      "_view_module_version": "1.5.0",
      "_view_name": "ProgressView",
      "bar_style": "success",
      "description": "Downloading: 100%",
      "description_tooltip": null,
      "layout": "IPY_MODEL_c58ced1b09164544b0aa67a5dfa77a46",
      "max": 466062,
      "min": 0,
      "orientation": "horizontal",
      "style": "IPY_MODEL_79681574a14c47a989b05f81018610a7",
      "value": 466062
     }
    },
    "a874b055a01c452196d4789f83731228": {
     "model_module": "@jupyter-widgets/base",
     "model_name": "LayoutModel",
     "state": {
      "_model_module": "@jupyter-widgets/base",
      "_model_module_version": "1.2.0",
      "_model_name": "LayoutModel",
      "_view_count": null,
      "_view_module": "@jupyter-widgets/base",
      "_view_module_version": "1.2.0",
      "_view_name": "LayoutView",
      "align_content": null,
      "align_items": null,
      "align_self": null,
      "border": null,
      "bottom": null,
      "display": null,
      "flex": null,
      "flex_flow": null,
      "grid_area": null,
      "grid_auto_columns": null,
      "grid_auto_flow": null,
      "grid_auto_rows": null,
      "grid_column": null,
      "grid_gap": null,
      "grid_row": null,
      "grid_template_areas": null,
      "grid_template_columns": null,
      "grid_template_rows": null,
      "height": null,
      "justify_content": null,
      "justify_items": null,
      "left": null,
      "margin": null,
      "max_height": null,
      "max_width": null,
      "min_height": null,
      "min_width": null,
      "object_fit": null,
      "object_position": null,
      "order": null,
      "overflow": null,
      "overflow_x": null,
      "overflow_y": null,
      "padding": null,
      "right": null,
      "top": null,
      "visibility": null,
      "width": null
     }
    },
    "acde190699334f3e9bbadeacda4f422d": {
     "model_module": "@jupyter-widgets/base",
     "model_name": "LayoutModel",
     "state": {
      "_model_module": "@jupyter-widgets/base",
      "_model_module_version": "1.2.0",
      "_model_name": "LayoutModel",
      "_view_count": null,
      "_view_module": "@jupyter-widgets/base",
      "_view_module_version": "1.2.0",
      "_view_name": "LayoutView",
      "align_content": null,
      "align_items": null,
      "align_self": null,
      "border": null,
      "bottom": null,
      "display": null,
      "flex": null,
      "flex_flow": null,
      "grid_area": null,
      "grid_auto_columns": null,
      "grid_auto_flow": null,
      "grid_auto_rows": null,
      "grid_column": null,
      "grid_gap": null,
      "grid_row": null,
      "grid_template_areas": null,
      "grid_template_columns": null,
      "grid_template_rows": null,
      "height": null,
      "justify_content": null,
      "justify_items": null,
      "left": null,
      "margin": null,
      "max_height": null,
      "max_width": null,
      "min_height": null,
      "min_width": null,
      "object_fit": null,
      "object_position": null,
      "order": null,
      "overflow": null,
      "overflow_x": null,
      "overflow_y": null,
      "padding": null,
      "right": null,
      "top": null,
      "visibility": null,
      "width": null
     }
    },
    "b4bb3f320b08469f980ebe7276728917": {
     "model_module": "@jupyter-widgets/controls",
     "model_name": "HTMLModel",
     "state": {
      "_dom_classes": [],
      "_model_module": "@jupyter-widgets/controls",
      "_model_module_version": "1.5.0",
      "_model_name": "HTMLModel",
      "_view_count": null,
      "_view_module": "@jupyter-widgets/controls",
      "_view_module_version": "1.5.0",
      "_view_name": "HTMLView",
      "description": "",
      "description_tooltip": null,
      "layout": "IPY_MODEL_e1339d74cf584c61a12e6dc31381b52c",
      "placeholder": "​",
      "style": "IPY_MODEL_5152d647392041dead440bae4ab70433",
      "value": " 232k/232k [00:02&lt;00:00, 97.3kB/s]"
     }
    },
    "c58ced1b09164544b0aa67a5dfa77a46": {
     "model_module": "@jupyter-widgets/base",
     "model_name": "LayoutModel",
     "state": {
      "_model_module": "@jupyter-widgets/base",
      "_model_module_version": "1.2.0",
      "_model_name": "LayoutModel",
      "_view_count": null,
      "_view_module": "@jupyter-widgets/base",
      "_view_module_version": "1.2.0",
      "_view_name": "LayoutView",
      "align_content": null,
      "align_items": null,
      "align_self": null,
      "border": null,
      "bottom": null,
      "display": null,
      "flex": null,
      "flex_flow": null,
      "grid_area": null,
      "grid_auto_columns": null,
      "grid_auto_flow": null,
      "grid_auto_rows": null,
      "grid_column": null,
      "grid_gap": null,
      "grid_row": null,
      "grid_template_areas": null,
      "grid_template_columns": null,
      "grid_template_rows": null,
      "height": null,
      "justify_content": null,
      "justify_items": null,
      "left": null,
      "margin": null,
      "max_height": null,
      "max_width": null,
      "min_height": null,
      "min_width": null,
      "object_fit": null,
      "object_position": null,
      "order": null,
      "overflow": null,
      "overflow_x": null,
      "overflow_y": null,
      "padding": null,
      "right": null,
      "top": null,
      "visibility": null,
      "width": null
     }
    },
    "c6b9db49b4ff4840853ce91ce5defcc3": {
     "model_module": "@jupyter-widgets/controls",
     "model_name": "HTMLModel",
     "state": {
      "_dom_classes": [],
      "_model_module": "@jupyter-widgets/controls",
      "_model_module_version": "1.5.0",
      "_model_name": "HTMLModel",
      "_view_count": null,
      "_view_module": "@jupyter-widgets/controls",
      "_view_module_version": "1.5.0",
      "_view_name": "HTMLView",
      "description": "",
      "description_tooltip": null,
      "layout": "IPY_MODEL_3c09d21d0ce34eeb897f80e23d6aaebb",
      "placeholder": "​",
      "style": "IPY_MODEL_05f27c0855d84c33ae63eeb4cc48a4ad",
      "value": " 466k/466k [00:00&lt;00:00, 508kB/s]"
     }
    },
    "cca888d1758c4865ae04062217a45142": {
     "model_module": "@jupyter-widgets/base",
     "model_name": "LayoutModel",
     "state": {
      "_model_module": "@jupyter-widgets/base",
      "_model_module_version": "1.2.0",
      "_model_name": "LayoutModel",
      "_view_count": null,
      "_view_module": "@jupyter-widgets/base",
      "_view_module_version": "1.2.0",
      "_view_name": "LayoutView",
      "align_content": null,
      "align_items": null,
      "align_self": null,
      "border": null,
      "bottom": null,
      "display": null,
      "flex": null,
      "flex_flow": null,
      "grid_area": null,
      "grid_auto_columns": null,
      "grid_auto_flow": null,
      "grid_auto_rows": null,
      "grid_column": null,
      "grid_gap": null,
      "grid_row": null,
      "grid_template_areas": null,
      "grid_template_columns": null,
      "grid_template_rows": null,
      "height": null,
      "justify_content": null,
      "justify_items": null,
      "left": null,
      "margin": null,
      "max_height": null,
      "max_width": null,
      "min_height": null,
      "min_width": null,
      "object_fit": null,
      "object_position": null,
      "order": null,
      "overflow": null,
      "overflow_x": null,
      "overflow_y": null,
      "padding": null,
      "right": null,
      "top": null,
      "visibility": null,
      "width": null
     }
    },
    "d1d8317568b542bb97481bfd064b2805": {
     "model_module": "@jupyter-widgets/base",
     "model_name": "LayoutModel",
     "state": {
      "_model_module": "@jupyter-widgets/base",
      "_model_module_version": "1.2.0",
      "_model_name": "LayoutModel",
      "_view_count": null,
      "_view_module": "@jupyter-widgets/base",
      "_view_module_version": "1.2.0",
      "_view_name": "LayoutView",
      "align_content": null,
      "align_items": null,
      "align_self": null,
      "border": null,
      "bottom": null,
      "display": null,
      "flex": null,
      "flex_flow": null,
      "grid_area": null,
      "grid_auto_columns": null,
      "grid_auto_flow": null,
      "grid_auto_rows": null,
      "grid_column": null,
      "grid_gap": null,
      "grid_row": null,
      "grid_template_areas": null,
      "grid_template_columns": null,
      "grid_template_rows": null,
      "height": null,
      "justify_content": null,
      "justify_items": null,
      "left": null,
      "margin": null,
      "max_height": null,
      "max_width": null,
      "min_height": null,
      "min_width": null,
      "object_fit": null,
      "object_position": null,
      "order": null,
      "overflow": null,
      "overflow_x": null,
      "overflow_y": null,
      "padding": null,
      "right": null,
      "top": null,
      "visibility": null,
      "width": null
     }
    },
    "d6fe727c4bde4dbb91d93aeb8bf689a6": {
     "model_module": "@jupyter-widgets/base",
     "model_name": "LayoutModel",
     "state": {
      "_model_module": "@jupyter-widgets/base",
      "_model_module_version": "1.2.0",
      "_model_name": "LayoutModel",
      "_view_count": null,
      "_view_module": "@jupyter-widgets/base",
      "_view_module_version": "1.2.0",
      "_view_name": "LayoutView",
      "align_content": null,
      "align_items": null,
      "align_self": null,
      "border": null,
      "bottom": null,
      "display": null,
      "flex": null,
      "flex_flow": null,
      "grid_area": null,
      "grid_auto_columns": null,
      "grid_auto_flow": null,
      "grid_auto_rows": null,
      "grid_column": null,
      "grid_gap": null,
      "grid_row": null,
      "grid_template_areas": null,
      "grid_template_columns": null,
      "grid_template_rows": null,
      "height": null,
      "justify_content": null,
      "justify_items": null,
      "left": null,
      "margin": null,
      "max_height": null,
      "max_width": null,
      "min_height": null,
      "min_width": null,
      "object_fit": null,
      "object_position": null,
      "order": null,
      "overflow": null,
      "overflow_x": null,
      "overflow_y": null,
      "padding": null,
      "right": null,
      "top": null,
      "visibility": null,
      "width": null
     }
    },
    "e02d05e23b8245fdaf9fade091ec4f0f": {
     "model_module": "@jupyter-widgets/controls",
     "model_name": "FloatProgressModel",
     "state": {
      "_dom_classes": [],
      "_model_module": "@jupyter-widgets/controls",
      "_model_module_version": "1.5.0",
      "_model_name": "FloatProgressModel",
      "_view_count": null,
      "_view_module": "@jupyter-widgets/controls",
      "_view_module_version": "1.5.0",
      "_view_name": "ProgressView",
      "bar_style": "success",
      "description": "Downloading: 100%",
      "description_tooltip": null,
      "layout": "IPY_MODEL_d6fe727c4bde4dbb91d93aeb8bf689a6",
      "max": 28,
      "min": 0,
      "orientation": "horizontal",
      "style": "IPY_MODEL_838df9dc081847e2a262aa50f0976343",
      "value": 28
     }
    },
    "e1339d74cf584c61a12e6dc31381b52c": {
     "model_module": "@jupyter-widgets/base",
     "model_name": "LayoutModel",
     "state": {
      "_model_module": "@jupyter-widgets/base",
      "_model_module_version": "1.2.0",
      "_model_name": "LayoutModel",
      "_view_count": null,
      "_view_module": "@jupyter-widgets/base",
      "_view_module_version": "1.2.0",
      "_view_name": "LayoutView",
      "align_content": null,
      "align_items": null,
      "align_self": null,
      "border": null,
      "bottom": null,
      "display": null,
      "flex": null,
      "flex_flow": null,
      "grid_area": null,
      "grid_auto_columns": null,
      "grid_auto_flow": null,
      "grid_auto_rows": null,
      "grid_column": null,
      "grid_gap": null,
      "grid_row": null,
      "grid_template_areas": null,
      "grid_template_columns": null,
      "grid_template_rows": null,
      "height": null,
      "justify_content": null,
      "justify_items": null,
      "left": null,
      "margin": null,
      "max_height": null,
      "max_width": null,
      "min_height": null,
      "min_width": null,
      "object_fit": null,
      "object_position": null,
      "order": null,
      "overflow": null,
      "overflow_x": null,
      "overflow_y": null,
      "padding": null,
      "right": null,
      "top": null,
      "visibility": null,
      "width": null
     }
    },
    "e6719348726a45c1b9042f9f898804f4": {
     "model_module": "@jupyter-widgets/controls",
     "model_name": "FloatProgressModel",
     "state": {
      "_dom_classes": [],
      "_model_module": "@jupyter-widgets/controls",
      "_model_module_version": "1.5.0",
      "_model_name": "FloatProgressModel",
      "_view_count": null,
      "_view_module": "@jupyter-widgets/controls",
      "_view_module_version": "1.5.0",
      "_view_name": "ProgressView",
      "bar_style": "success",
      "description": "Downloading: 100%",
      "description_tooltip": null,
      "layout": "IPY_MODEL_f3f8b60e2d0f46c1a8efe084b8f67db1",
      "max": 267967963,
      "min": 0,
      "orientation": "horizontal",
      "style": "IPY_MODEL_eda51b89bf264b61ae74015667581b92",
      "value": 267967963
     }
    },
    "e80f0dd069784f5980c570a7521b4ffd": {
     "model_module": "@jupyter-widgets/controls",
     "model_name": "HTMLModel",
     "state": {
      "_dom_classes": [],
      "_model_module": "@jupyter-widgets/controls",
      "_model_module_version": "1.5.0",
      "_model_name": "HTMLModel",
      "_view_count": null,
      "_view_module": "@jupyter-widgets/controls",
      "_view_module_version": "1.5.0",
      "_view_name": "HTMLView",
      "description": "",
      "description_tooltip": null,
      "layout": "IPY_MODEL_0dcbe41f329f4d5b84825e3af7506480",
      "placeholder": "​",
      "style": "IPY_MODEL_8f47e3ef248640d9bf0e7c5150f96517",
      "value": " 28.0/28.0 [00:00&lt;00:00, 193B/s]"
     }
    },
    "eda51b89bf264b61ae74015667581b92": {
     "model_module": "@jupyter-widgets/controls",
     "model_name": "ProgressStyleModel",
     "state": {
      "_model_module": "@jupyter-widgets/controls",
      "_model_module_version": "1.5.0",
      "_model_name": "ProgressStyleModel",
      "_view_count": null,
      "_view_module": "@jupyter-widgets/base",
      "_view_module_version": "1.2.0",
      "_view_name": "StyleView",
      "bar_color": null,
      "description_width": "initial"
     }
    },
    "f3f8b60e2d0f46c1a8efe084b8f67db1": {
     "model_module": "@jupyter-widgets/base",
     "model_name": "LayoutModel",
     "state": {
      "_model_module": "@jupyter-widgets/base",
      "_model_module_version": "1.2.0",
      "_model_name": "LayoutModel",
      "_view_count": null,
      "_view_module": "@jupyter-widgets/base",
      "_view_module_version": "1.2.0",
      "_view_name": "LayoutView",
      "align_content": null,
      "align_items": null,
      "align_self": null,
      "border": null,
      "bottom": null,
      "display": null,
      "flex": null,
      "flex_flow": null,
      "grid_area": null,
      "grid_auto_columns": null,
      "grid_auto_flow": null,
      "grid_auto_rows": null,
      "grid_column": null,
      "grid_gap": null,
      "grid_row": null,
      "grid_template_areas": null,
      "grid_template_columns": null,
      "grid_template_rows": null,
      "height": null,
      "justify_content": null,
      "justify_items": null,
      "left": null,
      "margin": null,
      "max_height": null,
      "max_width": null,
      "min_height": null,
      "min_width": null,
      "object_fit": null,
      "object_position": null,
      "order": null,
      "overflow": null,
      "overflow_x": null,
      "overflow_y": null,
      "padding": null,
      "right": null,
      "top": null,
      "visibility": null,
      "width": null
     }
    },
    "f7658f5de24d467e9eef7ea2b6f2d794": {
     "model_module": "@jupyter-widgets/base",
     "model_name": "LayoutModel",
     "state": {
      "_model_module": "@jupyter-widgets/base",
      "_model_module_version": "1.2.0",
      "_model_name": "LayoutModel",
      "_view_count": null,
      "_view_module": "@jupyter-widgets/base",
      "_view_module_version": "1.2.0",
      "_view_name": "LayoutView",
      "align_content": null,
      "align_items": null,
      "align_self": null,
      "border": null,
      "bottom": null,
      "display": null,
      "flex": null,
      "flex_flow": null,
      "grid_area": null,
      "grid_auto_columns": null,
      "grid_auto_flow": null,
      "grid_auto_rows": null,
      "grid_column": null,
      "grid_gap": null,
      "grid_row": null,
      "grid_template_areas": null,
      "grid_template_columns": null,
      "grid_template_rows": null,
      "height": null,
      "justify_content": null,
      "justify_items": null,
      "left": null,
      "margin": null,
      "max_height": null,
      "max_width": null,
      "min_height": null,
      "min_width": null,
      "object_fit": null,
      "object_position": null,
      "order": null,
      "overflow": null,
      "overflow_x": null,
      "overflow_y": null,
      "padding": null,
      "right": null,
      "top": null,
      "visibility": null,
      "width": null
     }
    },
    "fe45b5818c3049bf9d51c8a80604769f": {
     "model_module": "@jupyter-widgets/controls",
     "model_name": "DescriptionStyleModel",
     "state": {
      "_model_module": "@jupyter-widgets/controls",
      "_model_module_version": "1.5.0",
      "_model_name": "DescriptionStyleModel",
      "_view_count": null,
      "_view_module": "@jupyter-widgets/base",
      "_view_module_version": "1.2.0",
      "_view_name": "StyleView",
      "description_width": ""
     }
    }
   }
  }
 },
 "nbformat": 4,
 "nbformat_minor": 1
}
